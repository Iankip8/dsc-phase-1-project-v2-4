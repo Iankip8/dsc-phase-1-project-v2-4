{
 "cells": [
  {
   "cell_type": "markdown",
   "metadata": {},
   "source": [
    "## Final Project Submission\n",
    "\n",
    "Please fill out:\n",
    "* Student name: \n",
    "* Student pace: self paced / part time / full time\n",
    "* Scheduled project review date/time: \n",
    "* Instructor name: \n",
    "* Blog post URL:\n"
   ]
  },
  {
   "cell_type": "code",
   "execution_count": null,
   "metadata": {},
   "outputs": [],
   "source": [
    "# Your code here - remember to use markdown cells for comments as well!"
   ]
  },
  {
   "cell_type": "markdown",
   "metadata": {},
   "source": [
    "# 1.  Introduction\n",
    "## 1.1 Overview\n",
    "This project will entail using exploratory data analysis (EDA) to try and come up with useful insights that will be used by Microsoft to make informed bussiness decisions.\n",
    "This is in regard to entering into a new market of origanal video production.\n",
    "\n",
    "## 1.2 Business Understanding\n",
    "\n",
    "Microsoft aims to gain a foothold in the film industry by launching its own film studio. However, lacking experience in film production, Microsoft sought to understand successful films to inform its strategy. By conducting exploratory data analysis (EDA), the project aims to identify key factors contributing to box office success, such as genre preferences, demographics and key responses. The insights gained will enable Microsoft to make informed decisions about the types of films to be released based on market trends and audience preferences. Ultimately, this move is intended to make Microsoft Movie Studios more competitive in the changing entertainment market.\n",
    "\n",
    "## 1.3 Revieving my current working directory\n",
    "\n",
    "\n",
    "\n"
   ]
  },
  {
   "cell_type": "code",
   "execution_count": 2,
   "metadata": {},
   "outputs": [
    {
     "name": "stdout",
     "output_type": "stream",
     "text": [
      " Volume in drive C has no label.\n",
      " Volume Serial Number is 4298-8E60\n",
      "\n",
      " Directory of C:\\Users\\Ian\\Documents\\fraiton\\dsc-data-science-env-config\\dsc-phase-1-project-v2-4\n",
      "\n",
      "03/18/2024  19:44    <DIR>          .\n",
      "03/18/2024  19:44    <DIR>          ..\n",
      "03/18/2024  19:27               163 .canvas\n",
      "03/18/2024  19:27                84 .gitignore\n",
      "03/18/2024  19:44    <DIR>          .ipynb_checkpoints\n",
      "03/18/2024  19:27         1,425,341 awesome.gif\n",
      "03/18/2024  19:27             1,846 CONTRIBUTING.md\n",
      "03/18/2024  19:27             1,357 LICENSE.md\n",
      "03/18/2024  19:27           107,563 movie_data_erd.jpeg\n",
      "03/18/2024  19:27            22,781 README.md\n",
      "03/18/2024  19:44             1,088 student.ipynb\n",
      "03/18/2024  19:28    <DIR>          zippedData\n",
      "               8 File(s)      1,560,223 bytes\n",
      "               4 Dir(s)  48,082,407,424 bytes free\n"
     ]
    }
   ],
   "source": [
    "ls"
   ]
  },
  {
   "cell_type": "markdown",
   "metadata": {},
   "source": [
    "## Importing all the relevant Libraries"
   ]
  },
  {
   "cell_type": "code",
   "execution_count": 3,
   "metadata": {},
   "outputs": [],
   "source": [
    "import pandas as pd\n",
    "import numpy as np\n",
    "import sqlite3\n",
    "import matplotlib.pyplot as plt\n",
    "import seaborn as sns\n",
    "%matplotlib inline"
   ]
  },
  {
   "cell_type": "code",
   "execution_count": null,
   "metadata": {},
   "outputs": [],
   "source": []
  }
 ],
 "metadata": {
  "kernelspec": {
   "display_name": "Python 3",
   "language": "python",
   "name": "python3"
  },
  "language_info": {
   "codemirror_mode": {
    "name": "ipython",
    "version": 3
   },
   "file_extension": ".py",
   "mimetype": "text/x-python",
   "name": "python",
   "nbconvert_exporter": "python",
   "pygments_lexer": "ipython3",
   "version": "3.8.5"
  }
 },
 "nbformat": 4,
 "nbformat_minor": 2
}
