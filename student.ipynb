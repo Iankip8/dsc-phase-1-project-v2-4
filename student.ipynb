{
 "cells": [
  {
   "cell_type": "markdown",
   "metadata": {},
   "source": [
    "## Final Project Submission\n",
    "\n",
    "Please fill out:\n",
    "* Student name: Ian Kiptoo\n",
    "* Student pace: Full time Remote\n",
    "* Scheduled project review date/time: \n",
    "* Instructor name: Asha Deen\n",
    "* Blog post URL:\n"
   ]
  },
  {
   "cell_type": "markdown",
   "metadata": {},
   "source": [
    "# 1.  Introduction\n",
    "## 1.1 Overview\n",
    "This project will entail using exploratory data analysis (EDA) to try and come up with useful insights that will be used by Microsoft to make informed bussiness decisions.\n",
    "This is in regard to entering into a new market of origanal video production.\n",
    "\n",
    "## 1.2 Business Understanding\n",
    "\n",
    "Microsoft aims to gain a foothold in the film industry by launching its own film studio. However, lacking experience in film production, Microsoft sought to understand successful films to inform its strategy. By conducting exploratory data analysis (EDA), the project aims to identify key factors contributing to the films success, such as genre preferences, demographics and key responses. The insights gained will enable Microsoft to make informed decisions about the types of films to be released based on market trends and audience preferences. Ultimately, this move is intended to make Microsoft Movie Studios more competitive in the changing entertainment market.\n",
    "\n",
    "### Key inquiries:\n",
    "\n",
    "1.Does the total number of films produced relate to the total gross income?\n",
    "\n",
    "2.How is rating related to movie duration?\n",
    "\n",
    "3.Is there a relationship between the popularity of movies and the number of votes they receive on a movie rating platform?\n",
    "\n",
    "4.What are the trends observed in the average popularity of films across different release years?\n",
    "\n",
    "5.What are the top 10 most popular movie genres, and how do their popularity ratings compare?\n",
    "\n",
    "\n",
    "## 1.3 Revieving my current working directory\n",
    "\n",
    "\n",
    "\n"
   ]
  },
  {
   "cell_type": "code",
   "execution_count": 424,
   "metadata": {},
   "outputs": [
    {
     "name": "stdout",
     "output_type": "stream",
     "text": [
      " Volume in drive C has no label.\n",
      " Volume Serial Number is 4298-8E60\n",
      "\n",
      " Directory of C:\\Users\\Ian\\Documents\\fraiton\\dsc-data-science-env-config\\dsc-phase-1-project-v2-4\n",
      "\n",
      "03/21/2024  09:57    <DIR>          .\n",
      "03/21/2024  09:57    <DIR>          ..\n",
      "03/18/2024  19:27               163 .canvas\n",
      "03/18/2024  19:27                84 .gitignore\n",
      "03/20/2024  19:42    <DIR>          .ipynb_checkpoints\n",
      "03/18/2024  19:27         1,425,341 awesome.gif\n",
      "03/18/2024  19:27             1,846 CONTRIBUTING.md\n",
      "03/18/2024  22:13                 0 im.db\n",
      "03/18/2024  19:27             1,357 LICENSE.md\n",
      "03/18/2024  19:27           107,563 movie_data_erd.jpeg\n",
      "03/18/2024  19:27            22,781 README.md\n",
      "03/21/2024  09:57           458,244 student.ipynb\n",
      "03/20/2024  19:44             1,680 Untitled.ipynb\n",
      "03/18/2024  22:20    <DIR>          zippedData\n",
      "              10 File(s)      2,019,059 bytes\n",
      "               4 Dir(s)  45,052,170,240 bytes free\n"
     ]
    }
   ],
   "source": [
    "ls"
   ]
  },
  {
   "cell_type": "markdown",
   "metadata": {},
   "source": [
    "## 1.4 Importing all the relevant Libraries"
   ]
  },
  {
   "cell_type": "code",
   "execution_count": 425,
   "metadata": {},
   "outputs": [],
   "source": [
    "import pandas as pd\n",
    "import numpy as np\n",
    "import sqlite3\n",
    "import matplotlib.pyplot as plt\n",
    "import seaborn as sns\n",
    "%matplotlib inline"
   ]
  },
  {
   "cell_type": "markdown",
   "metadata": {},
   "source": [
    "# 2. Data Understanding and Data Analysis"
   ]
  },
  {
   "cell_type": "markdown",
   "metadata": {},
   "source": [
    "## 2.1 Data understanding"
   ]
  },
  {
   "cell_type": "markdown",
   "metadata": {},
   "source": [
    "### 2.1.1 Data sources\n",
    "\n",
    "### 1.Box Office Mojo\n",
    "This is an American website that provides box office data for movies. The site was founded in 1988 by Brandon Gray, and was bought in by IMDb in 2008. IMDb is itself ownwed by Amazon.\n",
    "It specificy offers analysis services and tracks box office receipts both domestically and in the international level.\n",
    "\n",
    "### 2. IMDB (Internet Movie Database)\n",
    "IMDB is one of the most comprehensive database for films,television series, podcasts, home videos, video games, and streaming content online.This includes cast, production crew and personal biographies, plot summaries, trivia, ratings, and fan and critical reviews. It was founded in 1990, and moved to the web in 1993.\n",
    "\n",
    "### 3. Rotten Tomatoes\n",
    "Rotten Tomatoes is an American review aggregation website for film and television. It collects reviews from critics and audiences and assigns a \"Tomatometer\" score to movies based on the percentage of positive reviews. It also provides audience scores and reviews.\n",
    "\n",
    "### 4. TheMovieDB\n",
    "TheMovieDB (TMDB) is a user-generated database that provides information about movies, TV shows, and actors. It offers similar information to IMDB, including movie details, cast and crew information, user ratings, and more.\n",
    "\n",
    "### 5. The Numbers\n",
    "The numbers is a film industry data website that tracks box office revenue in a systematic, algorithimic way. \n",
    "The company also engagges in doing research and comes up with income forecasts of film projects.\n",
    "\n",
    "\n"
   ]
  },
  {
   "cell_type": "markdown",
   "metadata": {},
   "source": [
    "### 2.1.2 Reading the data "
   ]
  },
  {
   "cell_type": "code",
   "execution_count": 426,
   "metadata": {},
   "outputs": [],
   "source": [
    "# Imported our various CSV's to understand contents as well\n",
    "\n",
    "box_office_mojo_df = pd.read_csv('zippedData/bom.movie_gross.csv.gz')\n",
    "rotten_tomatoes_df = pd.read_csv('zippedData/rt.movie_info.tsv.gz', delimiter = '\\t')\n",
    "themoviedb_df = pd.read_csv('zippedData/tmdb.movies.csv.gz')\n",
    "the_numbers_df = pd.read_csv('zippedData/tn.movie_budgets.csv.gz')"
   ]
  },
  {
   "cell_type": "markdown",
   "metadata": {},
   "source": [
    "### 2.1.3 Exploring the Data\n",
    "Examination of the data structure and content. Understanding the data types, dimensions, and any initial patterns or insights."
   ]
  },
  {
   "cell_type": "markdown",
   "metadata": {},
   "source": [
    "### 1. Box office Mojo"
   ]
  },
  {
   "cell_type": "code",
   "execution_count": 427,
   "metadata": {},
   "outputs": [
    {
     "data": {
      "text/html": [
       "<div>\n",
       "<style scoped>\n",
       "    .dataframe tbody tr th:only-of-type {\n",
       "        vertical-align: middle;\n",
       "    }\n",
       "\n",
       "    .dataframe tbody tr th {\n",
       "        vertical-align: top;\n",
       "    }\n",
       "\n",
       "    .dataframe thead th {\n",
       "        text-align: right;\n",
       "    }\n",
       "</style>\n",
       "<table border=\"1\" class=\"dataframe\">\n",
       "  <thead>\n",
       "    <tr style=\"text-align: right;\">\n",
       "      <th></th>\n",
       "      <th>title</th>\n",
       "      <th>studio</th>\n",
       "      <th>domestic_gross</th>\n",
       "      <th>foreign_gross</th>\n",
       "      <th>year</th>\n",
       "    </tr>\n",
       "  </thead>\n",
       "  <tbody>\n",
       "    <tr>\n",
       "      <th>0</th>\n",
       "      <td>Toy Story 3</td>\n",
       "      <td>BV</td>\n",
       "      <td>415000000.0</td>\n",
       "      <td>652000000</td>\n",
       "      <td>2010</td>\n",
       "    </tr>\n",
       "    <tr>\n",
       "      <th>1</th>\n",
       "      <td>Alice in Wonderland (2010)</td>\n",
       "      <td>BV</td>\n",
       "      <td>334200000.0</td>\n",
       "      <td>691300000</td>\n",
       "      <td>2010</td>\n",
       "    </tr>\n",
       "    <tr>\n",
       "      <th>2</th>\n",
       "      <td>Harry Potter and the Deathly Hallows Part 1</td>\n",
       "      <td>WB</td>\n",
       "      <td>296000000.0</td>\n",
       "      <td>664300000</td>\n",
       "      <td>2010</td>\n",
       "    </tr>\n",
       "    <tr>\n",
       "      <th>3</th>\n",
       "      <td>Inception</td>\n",
       "      <td>WB</td>\n",
       "      <td>292600000.0</td>\n",
       "      <td>535700000</td>\n",
       "      <td>2010</td>\n",
       "    </tr>\n",
       "    <tr>\n",
       "      <th>4</th>\n",
       "      <td>Shrek Forever After</td>\n",
       "      <td>P/DW</td>\n",
       "      <td>238700000.0</td>\n",
       "      <td>513900000</td>\n",
       "      <td>2010</td>\n",
       "    </tr>\n",
       "  </tbody>\n",
       "</table>\n",
       "</div>"
      ],
      "text/plain": [
       "                                         title studio  domestic_gross  \\\n",
       "0                                  Toy Story 3     BV     415000000.0   \n",
       "1                   Alice in Wonderland (2010)     BV     334200000.0   \n",
       "2  Harry Potter and the Deathly Hallows Part 1     WB     296000000.0   \n",
       "3                                    Inception     WB     292600000.0   \n",
       "4                          Shrek Forever After   P/DW     238700000.0   \n",
       "\n",
       "  foreign_gross  year  \n",
       "0     652000000  2010  \n",
       "1     691300000  2010  \n",
       "2     664300000  2010  \n",
       "3     535700000  2010  \n",
       "4     513900000  2010  "
      ]
     },
     "execution_count": 427,
     "metadata": {},
     "output_type": "execute_result"
    }
   ],
   "source": [
    "box_office_mojo_df.head()\n"
   ]
  },
  {
   "cell_type": "code",
   "execution_count": 428,
   "metadata": {},
   "outputs": [
    {
     "name": "stdout",
     "output_type": "stream",
     "text": [
      "<class 'pandas.core.frame.DataFrame'>\n",
      "RangeIndex: 3387 entries, 0 to 3386\n",
      "Data columns (total 5 columns):\n",
      " #   Column          Non-Null Count  Dtype  \n",
      "---  ------          --------------  -----  \n",
      " 0   title           3387 non-null   object \n",
      " 1   studio          3382 non-null   object \n",
      " 2   domestic_gross  3359 non-null   float64\n",
      " 3   foreign_gross   2037 non-null   object \n",
      " 4   year            3387 non-null   int64  \n",
      "dtypes: float64(1), int64(1), object(3)\n",
      "memory usage: 132.4+ KB\n"
     ]
    }
   ],
   "source": [
    "box_office_mojo_df.info()"
   ]
  },
  {
   "cell_type": "code",
   "execution_count": 429,
   "metadata": {},
   "outputs": [
    {
     "name": "stdout",
     "output_type": "stream",
     "text": [
      "Total missing values in each column:\n",
      "title                0\n",
      "studio               5\n",
      "domestic_gross      28\n",
      "foreign_gross     1350\n",
      "year                 0\n",
      "dtype: int64\n"
     ]
    }
   ],
   "source": [
    "# Calculate the total number of missing values in each column\n",
    "missing_values_total = box_office_mojo_df.isnull().sum()\n",
    "\n",
    "# Display the total number of missing values\n",
    "print(\"Total missing values in each column:\")\n",
    "print(missing_values_total)"
   ]
  },
  {
   "cell_type": "markdown",
   "metadata": {},
   "source": [
    "This data has a total of 5 columns and 3387 rows.\n",
    "The columns names include title, studio, domestric_gross, foreign_gross and year.\n",
    "In this data set we also have missing values. Three columns contains missing values, that is\n",
    "studio with 5, domestric_gross with 28 and foreign_gross with 1350.\n",
    "\n",
    "### Data types\n",
    "\n",
    "### title \n",
    "This column contains object data type, likely representing titles of movies or similar categorical information.\n",
    "### studio\n",
    "Similarly, this column also contains object data type, likely representing the studios associated with the movies.\n",
    "### domestic_gross\n",
    "This column contains float64 data type, indicating numerical values for domestic gross earnings of movies.\n",
    "### foreign_gross\n",
    "This column contains object data type, which is unexpected for representing monetary values. It might need further investigation as it should ideally be of a numeric data type.\n",
    "### year\n",
    "This column contains int64 data type, representing the years associated with the movies."
   ]
  },
  {
   "cell_type": "markdown",
   "metadata": {},
   "source": [
    "Will need to do further analysis inorder to deal with the missing values and the foreign_gross column that is of type object which seems not to be what we expected of monetary terms."
   ]
  },
  {
   "cell_type": "markdown",
   "metadata": {},
   "source": [
    "\n",
    "\n",
    "\n",
    "\n",
    "\n",
    "\n",
    "\n",
    "### 2.Rotten Tomatoes"
   ]
  },
  {
   "cell_type": "code",
   "execution_count": 430,
   "metadata": {},
   "outputs": [
    {
     "data": {
      "text/html": [
       "<div>\n",
       "<style scoped>\n",
       "    .dataframe tbody tr th:only-of-type {\n",
       "        vertical-align: middle;\n",
       "    }\n",
       "\n",
       "    .dataframe tbody tr th {\n",
       "        vertical-align: top;\n",
       "    }\n",
       "\n",
       "    .dataframe thead th {\n",
       "        text-align: right;\n",
       "    }\n",
       "</style>\n",
       "<table border=\"1\" class=\"dataframe\">\n",
       "  <thead>\n",
       "    <tr style=\"text-align: right;\">\n",
       "      <th></th>\n",
       "      <th>id</th>\n",
       "      <th>synopsis</th>\n",
       "      <th>rating</th>\n",
       "      <th>genre</th>\n",
       "      <th>director</th>\n",
       "      <th>writer</th>\n",
       "      <th>theater_date</th>\n",
       "      <th>dvd_date</th>\n",
       "      <th>currency</th>\n",
       "      <th>box_office</th>\n",
       "      <th>runtime</th>\n",
       "      <th>studio</th>\n",
       "    </tr>\n",
       "  </thead>\n",
       "  <tbody>\n",
       "    <tr>\n",
       "      <th>0</th>\n",
       "      <td>1</td>\n",
       "      <td>This gritty, fast-paced, and innovative police...</td>\n",
       "      <td>R</td>\n",
       "      <td>Action and Adventure|Classics|Drama</td>\n",
       "      <td>William Friedkin</td>\n",
       "      <td>Ernest Tidyman</td>\n",
       "      <td>Oct 9, 1971</td>\n",
       "      <td>Sep 25, 2001</td>\n",
       "      <td>NaN</td>\n",
       "      <td>NaN</td>\n",
       "      <td>104 minutes</td>\n",
       "      <td>NaN</td>\n",
       "    </tr>\n",
       "    <tr>\n",
       "      <th>1</th>\n",
       "      <td>3</td>\n",
       "      <td>New York City, not-too-distant-future: Eric Pa...</td>\n",
       "      <td>R</td>\n",
       "      <td>Drama|Science Fiction and Fantasy</td>\n",
       "      <td>David Cronenberg</td>\n",
       "      <td>David Cronenberg|Don DeLillo</td>\n",
       "      <td>Aug 17, 2012</td>\n",
       "      <td>Jan 1, 2013</td>\n",
       "      <td>$</td>\n",
       "      <td>600,000</td>\n",
       "      <td>108 minutes</td>\n",
       "      <td>Entertainment One</td>\n",
       "    </tr>\n",
       "    <tr>\n",
       "      <th>2</th>\n",
       "      <td>5</td>\n",
       "      <td>Illeana Douglas delivers a superb performance ...</td>\n",
       "      <td>R</td>\n",
       "      <td>Drama|Musical and Performing Arts</td>\n",
       "      <td>Allison Anders</td>\n",
       "      <td>Allison Anders</td>\n",
       "      <td>Sep 13, 1996</td>\n",
       "      <td>Apr 18, 2000</td>\n",
       "      <td>NaN</td>\n",
       "      <td>NaN</td>\n",
       "      <td>116 minutes</td>\n",
       "      <td>NaN</td>\n",
       "    </tr>\n",
       "    <tr>\n",
       "      <th>3</th>\n",
       "      <td>6</td>\n",
       "      <td>Michael Douglas runs afoul of a treacherous su...</td>\n",
       "      <td>R</td>\n",
       "      <td>Drama|Mystery and Suspense</td>\n",
       "      <td>Barry Levinson</td>\n",
       "      <td>Paul Attanasio|Michael Crichton</td>\n",
       "      <td>Dec 9, 1994</td>\n",
       "      <td>Aug 27, 1997</td>\n",
       "      <td>NaN</td>\n",
       "      <td>NaN</td>\n",
       "      <td>128 minutes</td>\n",
       "      <td>NaN</td>\n",
       "    </tr>\n",
       "    <tr>\n",
       "      <th>4</th>\n",
       "      <td>7</td>\n",
       "      <td>NaN</td>\n",
       "      <td>NR</td>\n",
       "      <td>Drama|Romance</td>\n",
       "      <td>Rodney Bennett</td>\n",
       "      <td>Giles Cooper</td>\n",
       "      <td>NaN</td>\n",
       "      <td>NaN</td>\n",
       "      <td>NaN</td>\n",
       "      <td>NaN</td>\n",
       "      <td>200 minutes</td>\n",
       "      <td>NaN</td>\n",
       "    </tr>\n",
       "  </tbody>\n",
       "</table>\n",
       "</div>"
      ],
      "text/plain": [
       "   id                                           synopsis rating  \\\n",
       "0   1  This gritty, fast-paced, and innovative police...      R   \n",
       "1   3  New York City, not-too-distant-future: Eric Pa...      R   \n",
       "2   5  Illeana Douglas delivers a superb performance ...      R   \n",
       "3   6  Michael Douglas runs afoul of a treacherous su...      R   \n",
       "4   7                                                NaN     NR   \n",
       "\n",
       "                                 genre          director  \\\n",
       "0  Action and Adventure|Classics|Drama  William Friedkin   \n",
       "1    Drama|Science Fiction and Fantasy  David Cronenberg   \n",
       "2    Drama|Musical and Performing Arts    Allison Anders   \n",
       "3           Drama|Mystery and Suspense    Barry Levinson   \n",
       "4                        Drama|Romance    Rodney Bennett   \n",
       "\n",
       "                            writer  theater_date      dvd_date currency  \\\n",
       "0                   Ernest Tidyman   Oct 9, 1971  Sep 25, 2001      NaN   \n",
       "1     David Cronenberg|Don DeLillo  Aug 17, 2012   Jan 1, 2013        $   \n",
       "2                   Allison Anders  Sep 13, 1996  Apr 18, 2000      NaN   \n",
       "3  Paul Attanasio|Michael Crichton   Dec 9, 1994  Aug 27, 1997      NaN   \n",
       "4                     Giles Cooper           NaN           NaN      NaN   \n",
       "\n",
       "  box_office      runtime             studio  \n",
       "0        NaN  104 minutes                NaN  \n",
       "1    600,000  108 minutes  Entertainment One  \n",
       "2        NaN  116 minutes                NaN  \n",
       "3        NaN  128 minutes                NaN  \n",
       "4        NaN  200 minutes                NaN  "
      ]
     },
     "execution_count": 430,
     "metadata": {},
     "output_type": "execute_result"
    }
   ],
   "source": [
    "rotten_tomatoes_df.head()"
   ]
  },
  {
   "cell_type": "code",
   "execution_count": 431,
   "metadata": {},
   "outputs": [
    {
     "name": "stdout",
     "output_type": "stream",
     "text": [
      "<class 'pandas.core.frame.DataFrame'>\n",
      "RangeIndex: 1560 entries, 0 to 1559\n",
      "Data columns (total 12 columns):\n",
      " #   Column        Non-Null Count  Dtype \n",
      "---  ------        --------------  ----- \n",
      " 0   id            1560 non-null   int64 \n",
      " 1   synopsis      1498 non-null   object\n",
      " 2   rating        1557 non-null   object\n",
      " 3   genre         1552 non-null   object\n",
      " 4   director      1361 non-null   object\n",
      " 5   writer        1111 non-null   object\n",
      " 6   theater_date  1201 non-null   object\n",
      " 7   dvd_date      1201 non-null   object\n",
      " 8   currency      340 non-null    object\n",
      " 9   box_office    340 non-null    object\n",
      " 10  runtime       1530 non-null   object\n",
      " 11  studio        494 non-null    object\n",
      "dtypes: int64(1), object(11)\n",
      "memory usage: 146.4+ KB\n"
     ]
    }
   ],
   "source": [
    "rotten_tomatoes_df.info()"
   ]
  },
  {
   "cell_type": "code",
   "execution_count": 432,
   "metadata": {},
   "outputs": [
    {
     "name": "stdout",
     "output_type": "stream",
     "text": [
      "Total missing values in each column:\n",
      "id                 0\n",
      "synopsis          62\n",
      "rating             3\n",
      "genre              8\n",
      "director         199\n",
      "writer           449\n",
      "theater_date     359\n",
      "dvd_date         359\n",
      "currency        1220\n",
      "box_office      1220\n",
      "runtime           30\n",
      "studio          1066\n",
      "dtype: int64\n"
     ]
    }
   ],
   "source": [
    "# Calculate the total number of missing values in each column\n",
    "missing_values_total = rotten_tomatoes_df.isnull().sum()\n",
    "\n",
    "# Display the total number of missing values\n",
    "print(\"Total missing values in each column:\")\n",
    "print(missing_values_total)"
   ]
  },
  {
   "cell_type": "markdown",
   "metadata": {},
   "source": [
    "This data set contains 12 columns and 1560 rows.\n",
    "The column names include id, synopsis, rating, genre, director, writer, theater_date, dvd_date, currency, box_office, runtime and studio.\n",
    "In total we have 11 columns that contains missing values.\n",
    "The only column that does not contain missing values is the id column.\n",
    "\n",
    "The synopsis column has 62 missing values, the rating column has 3 missing values, the genre column has 8 missing values, the director column has 199 missing values, the writer column has 449 missing values, the theater_date column has 359 missing values, the dvd_date column has 359 missing values, the currency column has 1220 missing values, the box_office column has 1220 missing values, the runtime column has 30 missing values, and the studio column has 1066 missing values."
   ]
  },
  {
   "cell_type": "markdown",
   "metadata": {},
   "source": [
    "### Data types\n",
    "### synopsis \n",
    "This column likely contains textual data and is represented as an object data type.\n",
    "\n",
    "### rating \n",
    "This column may represent categorical data such as movie ratings (e.g., PG, PG-13) and is represented as an object data type.\n",
    "### genre\n",
    "This column may represent categorical data indicating the genre of movies (e.g., Action, Comedy) and could be represented as an object data type.\n",
    "### director\n",
    "This column contains names of movie directors and may be represented as an object data type.\n",
    "### writer\n",
    "Similar to the director column, this column contains names of movie writers and is represented as an object data type.\n",
    "### theater_date and dvd_date\n",
    "These columns represent dates and could be represented as datetime data types.\n",
    "### currency, box_office, and runtime\n",
    "These columns represent numerical data is represented as appropriate numerical data types (e.g., float64 for currency and box office, int64 for runtime).\n",
    "### studio\n",
    "This column represent categorical data indicating the movie studios and is represented as an object data type."
   ]
  },
  {
   "cell_type": "markdown",
   "metadata": {},
   "source": [
    "Gennerally the data types are what is expected, but on the other hand this data set contains a lot of missing values hence the need to do further analysis."
   ]
  },
  {
   "cell_type": "markdown",
   "metadata": {},
   "source": [
    "### 3. TheMovieDB"
   ]
  },
  {
   "cell_type": "code",
   "execution_count": 433,
   "metadata": {},
   "outputs": [
    {
     "data": {
      "text/html": [
       "<div>\n",
       "<style scoped>\n",
       "    .dataframe tbody tr th:only-of-type {\n",
       "        vertical-align: middle;\n",
       "    }\n",
       "\n",
       "    .dataframe tbody tr th {\n",
       "        vertical-align: top;\n",
       "    }\n",
       "\n",
       "    .dataframe thead th {\n",
       "        text-align: right;\n",
       "    }\n",
       "</style>\n",
       "<table border=\"1\" class=\"dataframe\">\n",
       "  <thead>\n",
       "    <tr style=\"text-align: right;\">\n",
       "      <th></th>\n",
       "      <th>Unnamed: 0</th>\n",
       "      <th>genre_ids</th>\n",
       "      <th>id</th>\n",
       "      <th>original_language</th>\n",
       "      <th>original_title</th>\n",
       "      <th>popularity</th>\n",
       "      <th>release_date</th>\n",
       "      <th>title</th>\n",
       "      <th>vote_average</th>\n",
       "      <th>vote_count</th>\n",
       "    </tr>\n",
       "  </thead>\n",
       "  <tbody>\n",
       "    <tr>\n",
       "      <th>0</th>\n",
       "      <td>0</td>\n",
       "      <td>[12, 14, 10751]</td>\n",
       "      <td>12444</td>\n",
       "      <td>en</td>\n",
       "      <td>Harry Potter and the Deathly Hallows: Part 1</td>\n",
       "      <td>33.533</td>\n",
       "      <td>2010-11-19</td>\n",
       "      <td>Harry Potter and the Deathly Hallows: Part 1</td>\n",
       "      <td>7.7</td>\n",
       "      <td>10788</td>\n",
       "    </tr>\n",
       "    <tr>\n",
       "      <th>1</th>\n",
       "      <td>1</td>\n",
       "      <td>[14, 12, 16, 10751]</td>\n",
       "      <td>10191</td>\n",
       "      <td>en</td>\n",
       "      <td>How to Train Your Dragon</td>\n",
       "      <td>28.734</td>\n",
       "      <td>2010-03-26</td>\n",
       "      <td>How to Train Your Dragon</td>\n",
       "      <td>7.7</td>\n",
       "      <td>7610</td>\n",
       "    </tr>\n",
       "    <tr>\n",
       "      <th>2</th>\n",
       "      <td>2</td>\n",
       "      <td>[12, 28, 878]</td>\n",
       "      <td>10138</td>\n",
       "      <td>en</td>\n",
       "      <td>Iron Man 2</td>\n",
       "      <td>28.515</td>\n",
       "      <td>2010-05-07</td>\n",
       "      <td>Iron Man 2</td>\n",
       "      <td>6.8</td>\n",
       "      <td>12368</td>\n",
       "    </tr>\n",
       "    <tr>\n",
       "      <th>3</th>\n",
       "      <td>3</td>\n",
       "      <td>[16, 35, 10751]</td>\n",
       "      <td>862</td>\n",
       "      <td>en</td>\n",
       "      <td>Toy Story</td>\n",
       "      <td>28.005</td>\n",
       "      <td>1995-11-22</td>\n",
       "      <td>Toy Story</td>\n",
       "      <td>7.9</td>\n",
       "      <td>10174</td>\n",
       "    </tr>\n",
       "    <tr>\n",
       "      <th>4</th>\n",
       "      <td>4</td>\n",
       "      <td>[28, 878, 12]</td>\n",
       "      <td>27205</td>\n",
       "      <td>en</td>\n",
       "      <td>Inception</td>\n",
       "      <td>27.920</td>\n",
       "      <td>2010-07-16</td>\n",
       "      <td>Inception</td>\n",
       "      <td>8.3</td>\n",
       "      <td>22186</td>\n",
       "    </tr>\n",
       "  </tbody>\n",
       "</table>\n",
       "</div>"
      ],
      "text/plain": [
       "   Unnamed: 0            genre_ids     id original_language  \\\n",
       "0           0      [12, 14, 10751]  12444                en   \n",
       "1           1  [14, 12, 16, 10751]  10191                en   \n",
       "2           2        [12, 28, 878]  10138                en   \n",
       "3           3      [16, 35, 10751]    862                en   \n",
       "4           4        [28, 878, 12]  27205                en   \n",
       "\n",
       "                                 original_title  popularity release_date  \\\n",
       "0  Harry Potter and the Deathly Hallows: Part 1      33.533   2010-11-19   \n",
       "1                      How to Train Your Dragon      28.734   2010-03-26   \n",
       "2                                    Iron Man 2      28.515   2010-05-07   \n",
       "3                                     Toy Story      28.005   1995-11-22   \n",
       "4                                     Inception      27.920   2010-07-16   \n",
       "\n",
       "                                          title  vote_average  vote_count  \n",
       "0  Harry Potter and the Deathly Hallows: Part 1           7.7       10788  \n",
       "1                      How to Train Your Dragon           7.7        7610  \n",
       "2                                    Iron Man 2           6.8       12368  \n",
       "3                                     Toy Story           7.9       10174  \n",
       "4                                     Inception           8.3       22186  "
      ]
     },
     "execution_count": 433,
     "metadata": {},
     "output_type": "execute_result"
    }
   ],
   "source": [
    "themoviedb_df.head()"
   ]
  },
  {
   "cell_type": "code",
   "execution_count": 434,
   "metadata": {},
   "outputs": [],
   "source": [
    "# removing the Unnamed column\n",
    "themoviedb_df = pd.read_csv('zippedData/tmdb.movies.csv.gz', index_col=0)"
   ]
  },
  {
   "cell_type": "code",
   "execution_count": 435,
   "metadata": {
    "scrolled": true
   },
   "outputs": [
    {
     "name": "stdout",
     "output_type": "stream",
     "text": [
      "<class 'pandas.core.frame.DataFrame'>\n",
      "Int64Index: 26517 entries, 0 to 26516\n",
      "Data columns (total 9 columns):\n",
      " #   Column             Non-Null Count  Dtype  \n",
      "---  ------             --------------  -----  \n",
      " 0   genre_ids          26517 non-null  object \n",
      " 1   id                 26517 non-null  int64  \n",
      " 2   original_language  26517 non-null  object \n",
      " 3   original_title     26517 non-null  object \n",
      " 4   popularity         26517 non-null  float64\n",
      " 5   release_date       26517 non-null  object \n",
      " 6   title              26517 non-null  object \n",
      " 7   vote_average       26517 non-null  float64\n",
      " 8   vote_count         26517 non-null  int64  \n",
      "dtypes: float64(2), int64(2), object(5)\n",
      "memory usage: 2.0+ MB\n"
     ]
    }
   ],
   "source": [
    "themoviedb_df.info()"
   ]
  },
  {
   "cell_type": "code",
   "execution_count": 436,
   "metadata": {},
   "outputs": [
    {
     "name": "stdout",
     "output_type": "stream",
     "text": [
      "Total missing values in each column:\n",
      "genre_ids            0\n",
      "id                   0\n",
      "original_language    0\n",
      "original_title       0\n",
      "popularity           0\n",
      "release_date         0\n",
      "title                0\n",
      "vote_average         0\n",
      "vote_count           0\n",
      "dtype: int64\n"
     ]
    }
   ],
   "source": [
    "# Calculate the total number of missing values in each column\n",
    "missing_values_total = themoviedb_df.isnull().sum()\n",
    "\n",
    "# Display the total number of missing values\n",
    "print(\"Total missing values in each column:\")\n",
    "print(missing_values_total)"
   ]
  },
  {
   "cell_type": "markdown",
   "metadata": {},
   "source": [
    "This data set contains 9 columns and 26517 rows.\n",
    "The column names include genre_ids, id, original_language, originality_title, popularity, release_date, title, vote_average and vote_count.\n",
    "This data set does not contain any missing values."
   ]
  },
  {
   "cell_type": "markdown",
   "metadata": {},
   "source": [
    "### Data types\n",
    "### genre_ids\n",
    "This column contains object data type, representing genre IDs associated with movies.\n",
    "### id\n",
    "This column contains int64 data type, representing unique identifiers for movies.\n",
    "### original_language\n",
    "This column contains object data type, indicating the original language of movies.\n",
    "### original_title\n",
    "This column contains object data type, representing the original titles of movies.\n",
    "### popularity\n",
    "This column contains float64 data type, representing popularity scores of movies.\n",
    "### release_date\n",
    "This column contains object data type, representing release dates of movies. It will be convinent to convert it to datetime data type for further analysis.\n",
    "### title\n",
    "This column contains object data type, representing the titles of movies.\n",
    "### vote_average\n",
    "This column contains float64 data type, representing average ratings of movies.\n",
    "### vote_count\n",
    "This column contains int64 data type, representing the number of votes cast for movies.\n"
   ]
  },
  {
   "cell_type": "markdown",
   "metadata": {},
   "source": [
    "This data set does not have major issues and will be convient to use it to do further analysis."
   ]
  },
  {
   "cell_type": "markdown",
   "metadata": {},
   "source": [
    "### 4.The Numbers"
   ]
  },
  {
   "cell_type": "code",
   "execution_count": 437,
   "metadata": {},
   "outputs": [
    {
     "data": {
      "text/html": [
       "<div>\n",
       "<style scoped>\n",
       "    .dataframe tbody tr th:only-of-type {\n",
       "        vertical-align: middle;\n",
       "    }\n",
       "\n",
       "    .dataframe tbody tr th {\n",
       "        vertical-align: top;\n",
       "    }\n",
       "\n",
       "    .dataframe thead th {\n",
       "        text-align: right;\n",
       "    }\n",
       "</style>\n",
       "<table border=\"1\" class=\"dataframe\">\n",
       "  <thead>\n",
       "    <tr style=\"text-align: right;\">\n",
       "      <th></th>\n",
       "      <th>id</th>\n",
       "      <th>release_date</th>\n",
       "      <th>movie</th>\n",
       "      <th>production_budget</th>\n",
       "      <th>domestic_gross</th>\n",
       "      <th>worldwide_gross</th>\n",
       "    </tr>\n",
       "  </thead>\n",
       "  <tbody>\n",
       "    <tr>\n",
       "      <th>0</th>\n",
       "      <td>1</td>\n",
       "      <td>Dec 18, 2009</td>\n",
       "      <td>Avatar</td>\n",
       "      <td>$425,000,000</td>\n",
       "      <td>$760,507,625</td>\n",
       "      <td>$2,776,345,279</td>\n",
       "    </tr>\n",
       "    <tr>\n",
       "      <th>1</th>\n",
       "      <td>2</td>\n",
       "      <td>May 20, 2011</td>\n",
       "      <td>Pirates of the Caribbean: On Stranger Tides</td>\n",
       "      <td>$410,600,000</td>\n",
       "      <td>$241,063,875</td>\n",
       "      <td>$1,045,663,875</td>\n",
       "    </tr>\n",
       "    <tr>\n",
       "      <th>2</th>\n",
       "      <td>3</td>\n",
       "      <td>Jun 7, 2019</td>\n",
       "      <td>Dark Phoenix</td>\n",
       "      <td>$350,000,000</td>\n",
       "      <td>$42,762,350</td>\n",
       "      <td>$149,762,350</td>\n",
       "    </tr>\n",
       "    <tr>\n",
       "      <th>3</th>\n",
       "      <td>4</td>\n",
       "      <td>May 1, 2015</td>\n",
       "      <td>Avengers: Age of Ultron</td>\n",
       "      <td>$330,600,000</td>\n",
       "      <td>$459,005,868</td>\n",
       "      <td>$1,403,013,963</td>\n",
       "    </tr>\n",
       "    <tr>\n",
       "      <th>4</th>\n",
       "      <td>5</td>\n",
       "      <td>Dec 15, 2017</td>\n",
       "      <td>Star Wars Ep. VIII: The Last Jedi</td>\n",
       "      <td>$317,000,000</td>\n",
       "      <td>$620,181,382</td>\n",
       "      <td>$1,316,721,747</td>\n",
       "    </tr>\n",
       "  </tbody>\n",
       "</table>\n",
       "</div>"
      ],
      "text/plain": [
       "   id  release_date                                        movie  \\\n",
       "0   1  Dec 18, 2009                                       Avatar   \n",
       "1   2  May 20, 2011  Pirates of the Caribbean: On Stranger Tides   \n",
       "2   3   Jun 7, 2019                                 Dark Phoenix   \n",
       "3   4   May 1, 2015                      Avengers: Age of Ultron   \n",
       "4   5  Dec 15, 2017            Star Wars Ep. VIII: The Last Jedi   \n",
       "\n",
       "  production_budget domestic_gross worldwide_gross  \n",
       "0      $425,000,000   $760,507,625  $2,776,345,279  \n",
       "1      $410,600,000   $241,063,875  $1,045,663,875  \n",
       "2      $350,000,000    $42,762,350    $149,762,350  \n",
       "3      $330,600,000   $459,005,868  $1,403,013,963  \n",
       "4      $317,000,000   $620,181,382  $1,316,721,747  "
      ]
     },
     "execution_count": 437,
     "metadata": {},
     "output_type": "execute_result"
    }
   ],
   "source": [
    "the_numbers_df.head()"
   ]
  },
  {
   "cell_type": "code",
   "execution_count": 438,
   "metadata": {},
   "outputs": [
    {
     "name": "stdout",
     "output_type": "stream",
     "text": [
      "<class 'pandas.core.frame.DataFrame'>\n",
      "RangeIndex: 5782 entries, 0 to 5781\n",
      "Data columns (total 6 columns):\n",
      " #   Column             Non-Null Count  Dtype \n",
      "---  ------             --------------  ----- \n",
      " 0   id                 5782 non-null   int64 \n",
      " 1   release_date       5782 non-null   object\n",
      " 2   movie              5782 non-null   object\n",
      " 3   production_budget  5782 non-null   object\n",
      " 4   domestic_gross     5782 non-null   object\n",
      " 5   worldwide_gross    5782 non-null   object\n",
      "dtypes: int64(1), object(5)\n",
      "memory usage: 271.2+ KB\n"
     ]
    }
   ],
   "source": [
    "the_numbers_df.info()"
   ]
  },
  {
   "cell_type": "code",
   "execution_count": 439,
   "metadata": {
    "scrolled": true
   },
   "outputs": [
    {
     "name": "stdout",
     "output_type": "stream",
     "text": [
      "Total missing values in each column:\n",
      "id                   0\n",
      "release_date         0\n",
      "movie                0\n",
      "production_budget    0\n",
      "domestic_gross       0\n",
      "worldwide_gross      0\n",
      "dtype: int64\n"
     ]
    }
   ],
   "source": [
    "# Calculate the total number of missing values in each column\n",
    "missing_values_total = the_numbers_df.isnull().sum()\n",
    "\n",
    "# Display the total number of missing values\n",
    "print(\"Total missing values in each column:\")\n",
    "print(missing_values_total)"
   ]
  },
  {
   "cell_type": "markdown",
   "metadata": {},
   "source": [
    "This data set contains 6 columns and 5782 rows.\n",
    "The column names include id, release_date, movie, production_budget, domestic_gross and worlwide_gross.\n",
    "Also this data does not contain any missing values."
   ]
  },
  {
   "cell_type": "markdown",
   "metadata": {},
   "source": [
    "### Data types\n",
    "### id \n",
    "This column contains int64 data type, representing unique identifiers for movies.\n",
    "### release_date\n",
    "This column contains object data type, representing release dates of movies. Will convert it to datetime data type for further analysis.\n",
    "### movie\n",
    "This column contains object data type, representing the titles of movies.\n",
    "### production_budget\n",
    "This column contains object data type, which is unexpected for representing monetary values. It might need further investigation as it should ideally be of a numeric data type.\n",
    "### domestic_gross \n",
    "This column contains object data type, which is unexpected for representing monetary values\n",
    "Will need to carry out further investigation as it should ideally be of a numeric data type.\n",
    "### worldwide_gross\n",
    "This column contains object data type, which is unexpected for representing monetary values. It might need further investigation as it should ideally be of a numeric data type."
   ]
  },
  {
   "cell_type": "markdown",
   "metadata": {},
   "source": [
    "This data requires further analysis inorder to determine the column types."
   ]
  },
  {
   "cell_type": "markdown",
   "metadata": {},
   "source": [
    "# 2.2 Data Preparation and Analysis"
   ]
  },
  {
   "cell_type": "markdown",
   "metadata": {},
   "source": [
    "Should be able to deal with missing values and data types issues and do the necessary analysis."
   ]
  },
  {
   "cell_type": "markdown",
   "metadata": {},
   "source": [
    "### 1. Box Office Mojo"
   ]
  },
  {
   "cell_type": "code",
   "execution_count": 440,
   "metadata": {},
   "outputs": [
    {
     "data": {
      "text/plain": [
       "(3387, 5)"
      ]
     },
     "execution_count": 440,
     "metadata": {},
     "output_type": "execute_result"
    }
   ],
   "source": [
    "# Getting the shape of the data\n",
    "box_office_mojo_df.shape"
   ]
  },
  {
   "cell_type": "code",
   "execution_count": 441,
   "metadata": {},
   "outputs": [
    {
     "data": {
      "text/plain": [
       "title                           studio   domestic_gross  foreign_gross  year\n",
       "xXx: The Return of Xander Cage  Par.     44900000.0      301200000      2017    1\n",
       "I Am Number Four                BV       55100000.0      94800000       2011    1\n",
       "How to Be Single                WB (NL)  46800000.0      65500000       2016    1\n",
       "How to Train Your Dragon        P/DW     217600000.0     277300000      2010    1\n",
       "How to Train Your Dragon 2      Fox      177000000.0     444500000      2014    1\n",
       "                                                                               ..\n",
       "Source Code                     Sum.     54700000.0      92600000       2011    1\n",
       "South of the Border             CLS      199000.0        70800          2010    1\n",
       "Southpaw                        Wein.    52400000.0      39500000       2015    1\n",
       "Southside with You              RAtt.    6300000.0       208000         2016    1\n",
       "'71                             RAtt.    1300000.0       355000         2015    1\n",
       "Length: 2007, dtype: int64"
      ]
     },
     "execution_count": 441,
     "metadata": {},
     "output_type": "execute_result"
    }
   ],
   "source": [
    "# Getting frequency of unique values\n",
    "box_office_mojo_df.value_counts()"
   ]
  },
  {
   "cell_type": "code",
   "execution_count": 442,
   "metadata": {},
   "outputs": [
    {
     "data": {
      "text/plain": [
       "0    652000000.0\n",
       "1    691300000.0\n",
       "2    664300000.0\n",
       "3    535700000.0\n",
       "4    513900000.0\n",
       "Name: foreign_gross, dtype: float64"
      ]
     },
     "execution_count": 442,
     "metadata": {},
     "output_type": "execute_result"
    }
   ],
   "source": [
    "# Changing the data type of foreign_gross from str to int\n",
    "box_office_mojo_df['foreign_gross'] = box_office_mojo_df['foreign_gross'].str.replace(',', '')\n",
    "box_office_mojo_df['foreign_gross'] = pd.to_numeric(box_office_mojo_df['foreign_gross'])\n",
    "box_office_mojo_df['foreign_gross'].head()"
   ]
  },
  {
   "cell_type": "code",
   "execution_count": 443,
   "metadata": {},
   "outputs": [
    {
     "name": "stdout",
     "output_type": "stream",
     "text": [
      "Total missing values in each column:\n",
      "title                0\n",
      "studio               5\n",
      "domestic_gross      28\n",
      "foreign_gross     1350\n",
      "year                 0\n",
      "dtype: int64\n"
     ]
    }
   ],
   "source": [
    "# Dealing with missing values\n",
    "missing_values_total = box_office_mojo_df.isnull().sum()\n",
    "\n",
    "# Display the total number of missing values\n",
    "print(\"Total missing values in each column:\")\n",
    "print(missing_values_total)"
   ]
  },
  {
   "cell_type": "code",
   "execution_count": 444,
   "metadata": {},
   "outputs": [
    {
     "data": {
      "text/html": [
       "<div>\n",
       "<style scoped>\n",
       "    .dataframe tbody tr th:only-of-type {\n",
       "        vertical-align: middle;\n",
       "    }\n",
       "\n",
       "    .dataframe tbody tr th {\n",
       "        vertical-align: top;\n",
       "    }\n",
       "\n",
       "    .dataframe thead th {\n",
       "        text-align: right;\n",
       "    }\n",
       "</style>\n",
       "<table border=\"1\" class=\"dataframe\">\n",
       "  <thead>\n",
       "    <tr style=\"text-align: right;\">\n",
       "      <th></th>\n",
       "      <th>title</th>\n",
       "      <th>studio</th>\n",
       "      <th>domestic_gross</th>\n",
       "      <th>foreign_gross</th>\n",
       "      <th>year</th>\n",
       "    </tr>\n",
       "  </thead>\n",
       "  <tbody>\n",
       "    <tr>\n",
       "      <th>210</th>\n",
       "      <td>Outside the Law (Hors-la-loi)</td>\n",
       "      <td>NaN</td>\n",
       "      <td>96900.0</td>\n",
       "      <td>3300000.0</td>\n",
       "      <td>2010</td>\n",
       "    </tr>\n",
       "    <tr>\n",
       "      <th>555</th>\n",
       "      <td>Fireflies in the Garden</td>\n",
       "      <td>NaN</td>\n",
       "      <td>70600.0</td>\n",
       "      <td>3300000.0</td>\n",
       "      <td>2011</td>\n",
       "    </tr>\n",
       "    <tr>\n",
       "      <th>933</th>\n",
       "      <td>Keith Lemon: The Film</td>\n",
       "      <td>NaN</td>\n",
       "      <td>NaN</td>\n",
       "      <td>4000000.0</td>\n",
       "      <td>2012</td>\n",
       "    </tr>\n",
       "    <tr>\n",
       "      <th>1862</th>\n",
       "      <td>Plot for Peace</td>\n",
       "      <td>NaN</td>\n",
       "      <td>7100.0</td>\n",
       "      <td>NaN</td>\n",
       "      <td>2014</td>\n",
       "    </tr>\n",
       "    <tr>\n",
       "      <th>2825</th>\n",
       "      <td>Secret Superstar</td>\n",
       "      <td>NaN</td>\n",
       "      <td>NaN</td>\n",
       "      <td>122000000.0</td>\n",
       "      <td>2017</td>\n",
       "    </tr>\n",
       "  </tbody>\n",
       "</table>\n",
       "</div>"
      ],
      "text/plain": [
       "                              title studio  domestic_gross  foreign_gross  \\\n",
       "210   Outside the Law (Hors-la-loi)    NaN         96900.0      3300000.0   \n",
       "555         Fireflies in the Garden    NaN         70600.0      3300000.0   \n",
       "933           Keith Lemon: The Film    NaN             NaN      4000000.0   \n",
       "1862                 Plot for Peace    NaN          7100.0            NaN   \n",
       "2825               Secret Superstar    NaN             NaN    122000000.0   \n",
       "\n",
       "      year  \n",
       "210   2010  \n",
       "555   2011  \n",
       "933   2012  \n",
       "1862  2014  \n",
       "2825  2017  "
      ]
     },
     "execution_count": 444,
     "metadata": {},
     "output_type": "execute_result"
    }
   ],
   "source": [
    "# Dealing with missing values\n",
    "missing_studio_rows = box_office_mojo_df[box_office_mojo_df[\"studio\"].isna()]\n",
    "missing_studio_rows"
   ]
  },
  {
   "cell_type": "markdown",
   "metadata": {},
   "source": [
    "Sice the rows are few and we cannot just replace a studio with the mode or the mean value of the data, since we do not actually know the name the best practice is to drop the missing values. Thi swill ensure that the quality of the data remains intact."
   ]
  },
  {
   "cell_type": "code",
   "execution_count": 445,
   "metadata": {},
   "outputs": [
    {
     "data": {
      "text/html": [
       "<div>\n",
       "<style scoped>\n",
       "    .dataframe tbody tr th:only-of-type {\n",
       "        vertical-align: middle;\n",
       "    }\n",
       "\n",
       "    .dataframe tbody tr th {\n",
       "        vertical-align: top;\n",
       "    }\n",
       "\n",
       "    .dataframe thead th {\n",
       "        text-align: right;\n",
       "    }\n",
       "</style>\n",
       "<table border=\"1\" class=\"dataframe\">\n",
       "  <thead>\n",
       "    <tr style=\"text-align: right;\">\n",
       "      <th></th>\n",
       "      <th>title</th>\n",
       "      <th>studio</th>\n",
       "      <th>domestic_gross</th>\n",
       "      <th>foreign_gross</th>\n",
       "      <th>year</th>\n",
       "    </tr>\n",
       "  </thead>\n",
       "  <tbody>\n",
       "    <tr>\n",
       "      <th>230</th>\n",
       "      <td>It's a Wonderful Afterlife</td>\n",
       "      <td>UTV</td>\n",
       "      <td>NaN</td>\n",
       "      <td>1300000.0</td>\n",
       "      <td>2010</td>\n",
       "    </tr>\n",
       "    <tr>\n",
       "      <th>298</th>\n",
       "      <td>Celine: Through the Eyes of the World</td>\n",
       "      <td>Sony</td>\n",
       "      <td>NaN</td>\n",
       "      <td>119000.0</td>\n",
       "      <td>2010</td>\n",
       "    </tr>\n",
       "    <tr>\n",
       "      <th>302</th>\n",
       "      <td>White Lion</td>\n",
       "      <td>Scre.</td>\n",
       "      <td>NaN</td>\n",
       "      <td>99600.0</td>\n",
       "      <td>2010</td>\n",
       "    </tr>\n",
       "    <tr>\n",
       "      <th>306</th>\n",
       "      <td>Badmaash Company</td>\n",
       "      <td>Yash</td>\n",
       "      <td>NaN</td>\n",
       "      <td>64400.0</td>\n",
       "      <td>2010</td>\n",
       "    </tr>\n",
       "    <tr>\n",
       "      <th>327</th>\n",
       "      <td>Aashayein (Wishes)</td>\n",
       "      <td>Relbig.</td>\n",
       "      <td>NaN</td>\n",
       "      <td>3800.0</td>\n",
       "      <td>2010</td>\n",
       "    </tr>\n",
       "    <tr>\n",
       "      <th>537</th>\n",
       "      <td>Force</td>\n",
       "      <td>FoxS</td>\n",
       "      <td>NaN</td>\n",
       "      <td>4800000.0</td>\n",
       "      <td>2011</td>\n",
       "    </tr>\n",
       "    <tr>\n",
       "      <th>713</th>\n",
       "      <td>Empire of Silver</td>\n",
       "      <td>NeoC</td>\n",
       "      <td>NaN</td>\n",
       "      <td>19000.0</td>\n",
       "      <td>2011</td>\n",
       "    </tr>\n",
       "    <tr>\n",
       "      <th>871</th>\n",
       "      <td>Solomon Kane</td>\n",
       "      <td>RTWC</td>\n",
       "      <td>NaN</td>\n",
       "      <td>19600000.0</td>\n",
       "      <td>2012</td>\n",
       "    </tr>\n",
       "    <tr>\n",
       "      <th>928</th>\n",
       "      <td>The Tall Man</td>\n",
       "      <td>Imag.</td>\n",
       "      <td>NaN</td>\n",
       "      <td>5200000.0</td>\n",
       "      <td>2012</td>\n",
       "    </tr>\n",
       "    <tr>\n",
       "      <th>933</th>\n",
       "      <td>Keith Lemon: The Film</td>\n",
       "      <td>NaN</td>\n",
       "      <td>NaN</td>\n",
       "      <td>4000000.0</td>\n",
       "      <td>2012</td>\n",
       "    </tr>\n",
       "    <tr>\n",
       "      <th>936</th>\n",
       "      <td>Lula, Son of Brazil</td>\n",
       "      <td>NYer</td>\n",
       "      <td>NaN</td>\n",
       "      <td>3800000.0</td>\n",
       "      <td>2012</td>\n",
       "    </tr>\n",
       "    <tr>\n",
       "      <th>966</th>\n",
       "      <td>The Cup (2012)</td>\n",
       "      <td>Myr.</td>\n",
       "      <td>NaN</td>\n",
       "      <td>1800000.0</td>\n",
       "      <td>2012</td>\n",
       "    </tr>\n",
       "    <tr>\n",
       "      <th>1017</th>\n",
       "      <td>Dark Tide</td>\n",
       "      <td>WHE</td>\n",
       "      <td>NaN</td>\n",
       "      <td>432000.0</td>\n",
       "      <td>2012</td>\n",
       "    </tr>\n",
       "    <tr>\n",
       "      <th>1079</th>\n",
       "      <td>The Green Wave</td>\n",
       "      <td>RF</td>\n",
       "      <td>NaN</td>\n",
       "      <td>70100.0</td>\n",
       "      <td>2012</td>\n",
       "    </tr>\n",
       "    <tr>\n",
       "      <th>1268</th>\n",
       "      <td>22 Bullets</td>\n",
       "      <td>Cdgm.</td>\n",
       "      <td>NaN</td>\n",
       "      <td>21300000.0</td>\n",
       "      <td>2013</td>\n",
       "    </tr>\n",
       "    <tr>\n",
       "      <th>1308</th>\n",
       "      <td>Matru Ki Bijlee Ka Mandola</td>\n",
       "      <td>FIP</td>\n",
       "      <td>NaN</td>\n",
       "      <td>6000000.0</td>\n",
       "      <td>2013</td>\n",
       "    </tr>\n",
       "    <tr>\n",
       "      <th>1340</th>\n",
       "      <td>The Snitch Cartel</td>\n",
       "      <td>PI</td>\n",
       "      <td>NaN</td>\n",
       "      <td>2100000.0</td>\n",
       "      <td>2013</td>\n",
       "    </tr>\n",
       "    <tr>\n",
       "      <th>1342</th>\n",
       "      <td>All the Boys Love Mandy Lane</td>\n",
       "      <td>RTWC</td>\n",
       "      <td>NaN</td>\n",
       "      <td>1900000.0</td>\n",
       "      <td>2013</td>\n",
       "    </tr>\n",
       "    <tr>\n",
       "      <th>1368</th>\n",
       "      <td>6 Souls</td>\n",
       "      <td>RTWC</td>\n",
       "      <td>NaN</td>\n",
       "      <td>852000.0</td>\n",
       "      <td>2013</td>\n",
       "    </tr>\n",
       "    <tr>\n",
       "      <th>1659</th>\n",
       "      <td>Jessabelle</td>\n",
       "      <td>LGF</td>\n",
       "      <td>NaN</td>\n",
       "      <td>7000000.0</td>\n",
       "      <td>2014</td>\n",
       "    </tr>\n",
       "    <tr>\n",
       "      <th>1681</th>\n",
       "      <td>14 Blades</td>\n",
       "      <td>RTWC</td>\n",
       "      <td>NaN</td>\n",
       "      <td>3800000.0</td>\n",
       "      <td>2014</td>\n",
       "    </tr>\n",
       "    <tr>\n",
       "      <th>1685</th>\n",
       "      <td>Jack and the Cuckoo-Clock Heart</td>\n",
       "      <td>Shout!</td>\n",
       "      <td>NaN</td>\n",
       "      <td>3400000.0</td>\n",
       "      <td>2014</td>\n",
       "    </tr>\n",
       "    <tr>\n",
       "      <th>1739</th>\n",
       "      <td>Lila Lila</td>\n",
       "      <td>Crnth</td>\n",
       "      <td>NaN</td>\n",
       "      <td>1100000.0</td>\n",
       "      <td>2014</td>\n",
       "    </tr>\n",
       "    <tr>\n",
       "      <th>1975</th>\n",
       "      <td>Surprise - Journey To The West</td>\n",
       "      <td>AR</td>\n",
       "      <td>NaN</td>\n",
       "      <td>49600000.0</td>\n",
       "      <td>2015</td>\n",
       "    </tr>\n",
       "    <tr>\n",
       "      <th>2392</th>\n",
       "      <td>Finding Mr. Right 2</td>\n",
       "      <td>CL</td>\n",
       "      <td>NaN</td>\n",
       "      <td>114700000.0</td>\n",
       "      <td>2016</td>\n",
       "    </tr>\n",
       "    <tr>\n",
       "      <th>2468</th>\n",
       "      <td>Solace</td>\n",
       "      <td>LGP</td>\n",
       "      <td>NaN</td>\n",
       "      <td>22400000.0</td>\n",
       "      <td>2016</td>\n",
       "    </tr>\n",
       "    <tr>\n",
       "      <th>2595</th>\n",
       "      <td>Viral</td>\n",
       "      <td>W/Dim.</td>\n",
       "      <td>NaN</td>\n",
       "      <td>552000.0</td>\n",
       "      <td>2016</td>\n",
       "    </tr>\n",
       "    <tr>\n",
       "      <th>2825</th>\n",
       "      <td>Secret Superstar</td>\n",
       "      <td>NaN</td>\n",
       "      <td>NaN</td>\n",
       "      <td>122000000.0</td>\n",
       "      <td>2017</td>\n",
       "    </tr>\n",
       "  </tbody>\n",
       "</table>\n",
       "</div>"
      ],
      "text/plain": [
       "                                      title   studio  domestic_gross  \\\n",
       "230              It's a Wonderful Afterlife      UTV             NaN   \n",
       "298   Celine: Through the Eyes of the World     Sony             NaN   \n",
       "302                              White Lion    Scre.             NaN   \n",
       "306                        Badmaash Company     Yash             NaN   \n",
       "327                      Aashayein (Wishes)  Relbig.             NaN   \n",
       "537                                   Force     FoxS             NaN   \n",
       "713                        Empire of Silver     NeoC             NaN   \n",
       "871                            Solomon Kane     RTWC             NaN   \n",
       "928                            The Tall Man    Imag.             NaN   \n",
       "933                   Keith Lemon: The Film      NaN             NaN   \n",
       "936                     Lula, Son of Brazil     NYer             NaN   \n",
       "966                          The Cup (2012)     Myr.             NaN   \n",
       "1017                              Dark Tide      WHE             NaN   \n",
       "1079                         The Green Wave       RF             NaN   \n",
       "1268                             22 Bullets    Cdgm.             NaN   \n",
       "1308             Matru Ki Bijlee Ka Mandola      FIP             NaN   \n",
       "1340                      The Snitch Cartel       PI             NaN   \n",
       "1342           All the Boys Love Mandy Lane     RTWC             NaN   \n",
       "1368                                6 Souls     RTWC             NaN   \n",
       "1659                             Jessabelle      LGF             NaN   \n",
       "1681                              14 Blades     RTWC             NaN   \n",
       "1685        Jack and the Cuckoo-Clock Heart   Shout!             NaN   \n",
       "1739                              Lila Lila    Crnth             NaN   \n",
       "1975         Surprise - Journey To The West       AR             NaN   \n",
       "2392                    Finding Mr. Right 2       CL             NaN   \n",
       "2468                                 Solace      LGP             NaN   \n",
       "2595                                  Viral   W/Dim.             NaN   \n",
       "2825                       Secret Superstar      NaN             NaN   \n",
       "\n",
       "      foreign_gross  year  \n",
       "230       1300000.0  2010  \n",
       "298        119000.0  2010  \n",
       "302         99600.0  2010  \n",
       "306         64400.0  2010  \n",
       "327          3800.0  2010  \n",
       "537       4800000.0  2011  \n",
       "713         19000.0  2011  \n",
       "871      19600000.0  2012  \n",
       "928       5200000.0  2012  \n",
       "933       4000000.0  2012  \n",
       "936       3800000.0  2012  \n",
       "966       1800000.0  2012  \n",
       "1017       432000.0  2012  \n",
       "1079        70100.0  2012  \n",
       "1268     21300000.0  2013  \n",
       "1308      6000000.0  2013  \n",
       "1340      2100000.0  2013  \n",
       "1342      1900000.0  2013  \n",
       "1368       852000.0  2013  \n",
       "1659      7000000.0  2014  \n",
       "1681      3800000.0  2014  \n",
       "1685      3400000.0  2014  \n",
       "1739      1100000.0  2014  \n",
       "1975     49600000.0  2015  \n",
       "2392    114700000.0  2016  \n",
       "2468     22400000.0  2016  \n",
       "2595       552000.0  2016  \n",
       "2825    122000000.0  2017  "
      ]
     },
     "execution_count": 445,
     "metadata": {},
     "output_type": "execute_result"
    }
   ],
   "source": [
    "missing_domestic_rows = box_office_mojo_df[box_office_mojo_df[\"domestic_gross\"].isna()]\n",
    "missing_domestic_rows"
   ]
  },
  {
   "cell_type": "code",
   "execution_count": 446,
   "metadata": {},
   "outputs": [
    {
     "data": {
      "text/html": [
       "<div>\n",
       "<style scoped>\n",
       "    .dataframe tbody tr th:only-of-type {\n",
       "        vertical-align: middle;\n",
       "    }\n",
       "\n",
       "    .dataframe tbody tr th {\n",
       "        vertical-align: top;\n",
       "    }\n",
       "\n",
       "    .dataframe thead th {\n",
       "        text-align: right;\n",
       "    }\n",
       "</style>\n",
       "<table border=\"1\" class=\"dataframe\">\n",
       "  <thead>\n",
       "    <tr style=\"text-align: right;\">\n",
       "      <th></th>\n",
       "      <th>title</th>\n",
       "      <th>studio</th>\n",
       "      <th>domestic_gross</th>\n",
       "      <th>foreign_gross</th>\n",
       "      <th>year</th>\n",
       "    </tr>\n",
       "  </thead>\n",
       "  <tbody>\n",
       "    <tr>\n",
       "      <th>222</th>\n",
       "      <td>Flipped</td>\n",
       "      <td>WB</td>\n",
       "      <td>1800000.0</td>\n",
       "      <td>NaN</td>\n",
       "      <td>2010</td>\n",
       "    </tr>\n",
       "    <tr>\n",
       "      <th>254</th>\n",
       "      <td>The Polar Express (IMAX re-issue 2010)</td>\n",
       "      <td>WB</td>\n",
       "      <td>673000.0</td>\n",
       "      <td>NaN</td>\n",
       "      <td>2010</td>\n",
       "    </tr>\n",
       "    <tr>\n",
       "      <th>267</th>\n",
       "      <td>Tiny Furniture</td>\n",
       "      <td>IFC</td>\n",
       "      <td>392000.0</td>\n",
       "      <td>NaN</td>\n",
       "      <td>2010</td>\n",
       "    </tr>\n",
       "    <tr>\n",
       "      <th>269</th>\n",
       "      <td>Grease (Sing-a-Long re-issue)</td>\n",
       "      <td>Par.</td>\n",
       "      <td>366000.0</td>\n",
       "      <td>NaN</td>\n",
       "      <td>2010</td>\n",
       "    </tr>\n",
       "    <tr>\n",
       "      <th>280</th>\n",
       "      <td>Last Train Home</td>\n",
       "      <td>Zeit.</td>\n",
       "      <td>288000.0</td>\n",
       "      <td>NaN</td>\n",
       "      <td>2010</td>\n",
       "    </tr>\n",
       "    <tr>\n",
       "      <th>...</th>\n",
       "      <td>...</td>\n",
       "      <td>...</td>\n",
       "      <td>...</td>\n",
       "      <td>...</td>\n",
       "      <td>...</td>\n",
       "    </tr>\n",
       "    <tr>\n",
       "      <th>3382</th>\n",
       "      <td>The Quake</td>\n",
       "      <td>Magn.</td>\n",
       "      <td>6200.0</td>\n",
       "      <td>NaN</td>\n",
       "      <td>2018</td>\n",
       "    </tr>\n",
       "    <tr>\n",
       "      <th>3383</th>\n",
       "      <td>Edward II (2018 re-release)</td>\n",
       "      <td>FM</td>\n",
       "      <td>4800.0</td>\n",
       "      <td>NaN</td>\n",
       "      <td>2018</td>\n",
       "    </tr>\n",
       "    <tr>\n",
       "      <th>3384</th>\n",
       "      <td>El Pacto</td>\n",
       "      <td>Sony</td>\n",
       "      <td>2500.0</td>\n",
       "      <td>NaN</td>\n",
       "      <td>2018</td>\n",
       "    </tr>\n",
       "    <tr>\n",
       "      <th>3385</th>\n",
       "      <td>The Swan</td>\n",
       "      <td>Synergetic</td>\n",
       "      <td>2400.0</td>\n",
       "      <td>NaN</td>\n",
       "      <td>2018</td>\n",
       "    </tr>\n",
       "    <tr>\n",
       "      <th>3386</th>\n",
       "      <td>An Actor Prepares</td>\n",
       "      <td>Grav.</td>\n",
       "      <td>1700.0</td>\n",
       "      <td>NaN</td>\n",
       "      <td>2018</td>\n",
       "    </tr>\n",
       "  </tbody>\n",
       "</table>\n",
       "<p>1350 rows × 5 columns</p>\n",
       "</div>"
      ],
      "text/plain": [
       "                                       title      studio  domestic_gross  \\\n",
       "222                                  Flipped          WB       1800000.0   \n",
       "254   The Polar Express (IMAX re-issue 2010)          WB        673000.0   \n",
       "267                           Tiny Furniture         IFC        392000.0   \n",
       "269            Grease (Sing-a-Long re-issue)        Par.        366000.0   \n",
       "280                          Last Train Home       Zeit.        288000.0   \n",
       "...                                      ...         ...             ...   \n",
       "3382                               The Quake       Magn.          6200.0   \n",
       "3383             Edward II (2018 re-release)          FM          4800.0   \n",
       "3384                                El Pacto        Sony          2500.0   \n",
       "3385                                The Swan  Synergetic          2400.0   \n",
       "3386                       An Actor Prepares       Grav.          1700.0   \n",
       "\n",
       "      foreign_gross  year  \n",
       "222             NaN  2010  \n",
       "254             NaN  2010  \n",
       "267             NaN  2010  \n",
       "269             NaN  2010  \n",
       "280             NaN  2010  \n",
       "...             ...   ...  \n",
       "3382            NaN  2018  \n",
       "3383            NaN  2018  \n",
       "3384            NaN  2018  \n",
       "3385            NaN  2018  \n",
       "3386            NaN  2018  \n",
       "\n",
       "[1350 rows x 5 columns]"
      ]
     },
     "execution_count": 446,
     "metadata": {},
     "output_type": "execute_result"
    }
   ],
   "source": [
    "missing_foreign_rows = box_office_mojo_df[box_office_mojo_df[\"foreign_gross\"].isna()]\n",
    "missing_foreign_rows"
   ]
  },
  {
   "cell_type": "code",
   "execution_count": 447,
   "metadata": {},
   "outputs": [
    {
     "data": {
      "text/plain": [
       "(2007, 5)"
      ]
     },
     "execution_count": 447,
     "metadata": {},
     "output_type": "execute_result"
    }
   ],
   "source": [
    "## Remove null values from columns\n",
    "box_office_mojo_df.dropna(subset=['studio', 'domestic_gross', 'foreign_gross'], inplace=True)\n",
    "box_office_mojo_df.shape"
   ]
  },
  {
   "cell_type": "code",
   "execution_count": 448,
   "metadata": {},
   "outputs": [
    {
     "data": {
      "text/plain": [
       "title             0\n",
       "studio            0\n",
       "domestic_gross    0\n",
       "foreign_gross     0\n",
       "year              0\n",
       "dtype: int64"
      ]
     },
     "execution_count": 448,
     "metadata": {},
     "output_type": "execute_result"
    }
   ],
   "source": [
    "# Checking that there are no null values\n",
    "box_office_mojo_df.isna().sum()"
   ]
  },
  {
   "cell_type": "markdown",
   "metadata": {},
   "source": [
    "### Observation and insights\n",
    "Do the movie production and revenue relate?"
   ]
  },
  {
   "cell_type": "code",
   "execution_count": 449,
   "metadata": {},
   "outputs": [
    {
     "name": "stdout",
     "output_type": "stream",
     "text": [
      "Uni.    144\n",
      "Fox     134\n",
      "WB      130\n",
      "Sony    105\n",
      "BV      104\n",
      "Name: studio, dtype: int64\n",
      "Aviron    1\n",
      "CLS       1\n",
      "HC        1\n",
      "MPFT      1\n",
      "U/P       1\n",
      "Name: studio, dtype: int64\n"
     ]
    }
   ],
   "source": [
    "# finding studios with most production and the one with least production\n",
    "studio_counts = box_office_mojo_df[\"studio\"].value_counts()\n",
    "print(studio_counts.head())\n",
    "print(studio_counts.tail())"
   ]
  },
  {
   "cell_type": "code",
   "execution_count": 450,
   "metadata": {},
   "outputs": [],
   "source": [
    "# Creating a column with total pay\n",
    "box_office_mojo_df[\"total_pay\"] = box_office_mojo_df[\"domestic_gross\"] + box_office_mojo_df[\"foreign_gross\"]"
   ]
  },
  {
   "cell_type": "code",
   "execution_count": 451,
   "metadata": {},
   "outputs": [
    {
     "data": {
      "text/html": [
       "<div>\n",
       "<style scoped>\n",
       "    .dataframe tbody tr th:only-of-type {\n",
       "        vertical-align: middle;\n",
       "    }\n",
       "\n",
       "    .dataframe tbody tr th {\n",
       "        vertical-align: top;\n",
       "    }\n",
       "\n",
       "    .dataframe thead th {\n",
       "        text-align: right;\n",
       "    }\n",
       "</style>\n",
       "<table border=\"1\" class=\"dataframe\">\n",
       "  <thead>\n",
       "    <tr style=\"text-align: right;\">\n",
       "      <th></th>\n",
       "      <th>title</th>\n",
       "      <th>studio</th>\n",
       "      <th>domestic_gross</th>\n",
       "      <th>foreign_gross</th>\n",
       "      <th>year</th>\n",
       "      <th>total_pay</th>\n",
       "    </tr>\n",
       "  </thead>\n",
       "  <tbody>\n",
       "    <tr>\n",
       "      <th>0</th>\n",
       "      <td>Toy Story 3</td>\n",
       "      <td>BV</td>\n",
       "      <td>415000000.0</td>\n",
       "      <td>652000000.0</td>\n",
       "      <td>2010</td>\n",
       "      <td>1.067000e+09</td>\n",
       "    </tr>\n",
       "    <tr>\n",
       "      <th>1</th>\n",
       "      <td>Alice in Wonderland (2010)</td>\n",
       "      <td>BV</td>\n",
       "      <td>334200000.0</td>\n",
       "      <td>691300000.0</td>\n",
       "      <td>2010</td>\n",
       "      <td>1.025500e+09</td>\n",
       "    </tr>\n",
       "    <tr>\n",
       "      <th>2</th>\n",
       "      <td>Harry Potter and the Deathly Hallows Part 1</td>\n",
       "      <td>WB</td>\n",
       "      <td>296000000.0</td>\n",
       "      <td>664300000.0</td>\n",
       "      <td>2010</td>\n",
       "      <td>9.603000e+08</td>\n",
       "    </tr>\n",
       "    <tr>\n",
       "      <th>3</th>\n",
       "      <td>Inception</td>\n",
       "      <td>WB</td>\n",
       "      <td>292600000.0</td>\n",
       "      <td>535700000.0</td>\n",
       "      <td>2010</td>\n",
       "      <td>8.283000e+08</td>\n",
       "    </tr>\n",
       "    <tr>\n",
       "      <th>4</th>\n",
       "      <td>Shrek Forever After</td>\n",
       "      <td>P/DW</td>\n",
       "      <td>238700000.0</td>\n",
       "      <td>513900000.0</td>\n",
       "      <td>2010</td>\n",
       "      <td>7.526000e+08</td>\n",
       "    </tr>\n",
       "  </tbody>\n",
       "</table>\n",
       "</div>"
      ],
      "text/plain": [
       "                                         title studio  domestic_gross  \\\n",
       "0                                  Toy Story 3     BV     415000000.0   \n",
       "1                   Alice in Wonderland (2010)     BV     334200000.0   \n",
       "2  Harry Potter and the Deathly Hallows Part 1     WB     296000000.0   \n",
       "3                                    Inception     WB     292600000.0   \n",
       "4                          Shrek Forever After   P/DW     238700000.0   \n",
       "\n",
       "   foreign_gross  year     total_pay  \n",
       "0    652000000.0  2010  1.067000e+09  \n",
       "1    691300000.0  2010  1.025500e+09  \n",
       "2    664300000.0  2010  9.603000e+08  \n",
       "3    535700000.0  2010  8.283000e+08  \n",
       "4    513900000.0  2010  7.526000e+08  "
      ]
     },
     "execution_count": 451,
     "metadata": {},
     "output_type": "execute_result"
    }
   ],
   "source": [
    "box_office_mojo_df.head()"
   ]
  },
  {
   "cell_type": "code",
   "execution_count": 452,
   "metadata": {},
   "outputs": [
    {
     "name": "stdout",
     "output_type": "stream",
     "text": [
      "studio\n",
      "BV              4.419038e+10\n",
      "Fox             3.098037e+10\n",
      "WB              3.079150e+10\n",
      "Uni.            2.974681e+10\n",
      "Sony            2.240472e+10\n",
      "                    ...     \n",
      "Darin Southa    9.840000e+04\n",
      "ICir            7.960000e+04\n",
      "ITL             5.290000e+04\n",
      "WOW             4.940000e+04\n",
      "Crnth           3.830000e+04\n",
      "Name: total_pay, Length: 172, dtype: float64\n"
     ]
    }
   ],
   "source": [
    "# Grouping studio by total_pay\n",
    "studio_total_pay = box_office_mojo_df.groupby('studio')['total_pay'].sum().sort_values(ascending=False)\n",
    "\n",
    "print(studio_total_pay)"
   ]
  },
  {
   "cell_type": "code",
   "execution_count": 453,
   "metadata": {},
   "outputs": [
    {
     "name": "stdout",
     "output_type": "stream",
     "text": [
      "            Total Pay  Counts\n",
      "BV       4.419038e+10     104\n",
      "Fox      3.098037e+10     134\n",
      "WB       3.079150e+10     130\n",
      "Uni.     2.974681e+10     144\n",
      "Sony     2.240472e+10     105\n",
      "Par.     1.944420e+10      94\n",
      "WB (NL)  1.031410e+10      44\n",
      "LGF      8.467471e+09      87\n",
      "LG/S     5.318924e+09      37\n",
      "P/DW     5.076500e+09      10\n",
      "Wein.    4.095903e+09      69\n",
      "SGem     3.140162e+09      34\n",
      "WGUSA    2.778054e+09      25\n",
      "Focus    2.496769e+09      51\n",
      "FoxS     2.474688e+09      49\n",
      "Sum.     2.284971e+09      14\n",
      "CL       1.898686e+09      22\n",
      "Rela.    1.715417e+09      28\n",
      "TriS     1.713055e+09      19\n",
      "STX      1.474200e+09      22\n",
      "              Total Pay  Counts\n",
      "Icar.          177700.0       1\n",
      "AGF            176800.0       1\n",
      "NYer           128800.0       1\n",
      "FOAK           124300.0       1\n",
      "IVP            112100.0       1\n",
      "Darin Southa    98400.0       1\n",
      "ICir            79600.0       1\n",
      "ITL             52900.0       1\n",
      "WOW             49400.0       1\n",
      "Crnth           38300.0       1\n"
     ]
    }
   ],
   "source": [
    "# Comparing with the number of films produced.\n",
    "# Merging studio_total_pay with studio_counts\n",
    "merged_data = pd.concat([studio_total_pay, studio_counts], axis=1, keys=['Total Pay', 'Counts'])\n",
    "\n",
    "print(merged_data.head(20))\n",
    "print(merged_data.tail(10))"
   ]
  },
  {
   "cell_type": "code",
   "execution_count": 454,
   "metadata": {},
   "outputs": [
    {
     "data": {
      "text/html": [
       "<div>\n",
       "<style scoped>\n",
       "    .dataframe tbody tr th:only-of-type {\n",
       "        vertical-align: middle;\n",
       "    }\n",
       "\n",
       "    .dataframe tbody tr th {\n",
       "        vertical-align: top;\n",
       "    }\n",
       "\n",
       "    .dataframe thead th {\n",
       "        text-align: right;\n",
       "    }\n",
       "</style>\n",
       "<table border=\"1\" class=\"dataframe\">\n",
       "  <thead>\n",
       "    <tr style=\"text-align: right;\">\n",
       "      <th></th>\n",
       "      <th>title</th>\n",
       "      <th>studio</th>\n",
       "      <th>domestic_gross</th>\n",
       "      <th>foreign_gross</th>\n",
       "      <th>year</th>\n",
       "      <th>total_pay</th>\n",
       "    </tr>\n",
       "  </thead>\n",
       "  <tbody>\n",
       "    <tr>\n",
       "      <th>0</th>\n",
       "      <td>Toy Story 3</td>\n",
       "      <td>BV</td>\n",
       "      <td>415000000.0</td>\n",
       "      <td>652000000.0</td>\n",
       "      <td>2010</td>\n",
       "      <td>1.067000e+09</td>\n",
       "    </tr>\n",
       "    <tr>\n",
       "      <th>1</th>\n",
       "      <td>Alice in Wonderland (2010)</td>\n",
       "      <td>BV</td>\n",
       "      <td>334200000.0</td>\n",
       "      <td>691300000.0</td>\n",
       "      <td>2010</td>\n",
       "      <td>1.025500e+09</td>\n",
       "    </tr>\n",
       "    <tr>\n",
       "      <th>2</th>\n",
       "      <td>Harry Potter and the Deathly Hallows Part 1</td>\n",
       "      <td>WB</td>\n",
       "      <td>296000000.0</td>\n",
       "      <td>664300000.0</td>\n",
       "      <td>2010</td>\n",
       "      <td>9.603000e+08</td>\n",
       "    </tr>\n",
       "    <tr>\n",
       "      <th>3</th>\n",
       "      <td>Inception</td>\n",
       "      <td>WB</td>\n",
       "      <td>292600000.0</td>\n",
       "      <td>535700000.0</td>\n",
       "      <td>2010</td>\n",
       "      <td>8.283000e+08</td>\n",
       "    </tr>\n",
       "    <tr>\n",
       "      <th>4</th>\n",
       "      <td>Shrek Forever After</td>\n",
       "      <td>P/DW</td>\n",
       "      <td>238700000.0</td>\n",
       "      <td>513900000.0</td>\n",
       "      <td>2010</td>\n",
       "      <td>7.526000e+08</td>\n",
       "    </tr>\n",
       "    <tr>\n",
       "      <th>...</th>\n",
       "      <td>...</td>\n",
       "      <td>...</td>\n",
       "      <td>...</td>\n",
       "      <td>...</td>\n",
       "      <td>...</td>\n",
       "      <td>...</td>\n",
       "    </tr>\n",
       "    <tr>\n",
       "      <th>3258</th>\n",
       "      <td>A Private War</td>\n",
       "      <td>Aviron</td>\n",
       "      <td>1600000.0</td>\n",
       "      <td>2200000.0</td>\n",
       "      <td>2018</td>\n",
       "      <td>3.800000e+06</td>\n",
       "    </tr>\n",
       "    <tr>\n",
       "      <th>3268</th>\n",
       "      <td>Billionaire Boy's Club</td>\n",
       "      <td>VE</td>\n",
       "      <td>1300.0</td>\n",
       "      <td>2500000.0</td>\n",
       "      <td>2018</td>\n",
       "      <td>2.501300e+06</td>\n",
       "    </tr>\n",
       "    <tr>\n",
       "      <th>3271</th>\n",
       "      <td>Bilal: A New Breed of Hero</td>\n",
       "      <td>VE</td>\n",
       "      <td>491000.0</td>\n",
       "      <td>1700000.0</td>\n",
       "      <td>2018</td>\n",
       "      <td>2.191000e+06</td>\n",
       "    </tr>\n",
       "    <tr>\n",
       "      <th>3309</th>\n",
       "      <td>Time Freak</td>\n",
       "      <td>Grindstone</td>\n",
       "      <td>10000.0</td>\n",
       "      <td>256000.0</td>\n",
       "      <td>2018</td>\n",
       "      <td>2.660000e+05</td>\n",
       "    </tr>\n",
       "    <tr>\n",
       "      <th>3342</th>\n",
       "      <td>Reign of Judges: Title of Liberty - Concept Short</td>\n",
       "      <td>Darin Southa</td>\n",
       "      <td>93200.0</td>\n",
       "      <td>5200.0</td>\n",
       "      <td>2018</td>\n",
       "      <td>9.840000e+04</td>\n",
       "    </tr>\n",
       "  </tbody>\n",
       "</table>\n",
       "<p>481 rows × 6 columns</p>\n",
       "</div>"
      ],
      "text/plain": [
       "                                                  title        studio  \\\n",
       "0                                           Toy Story 3            BV   \n",
       "1                            Alice in Wonderland (2010)            BV   \n",
       "2           Harry Potter and the Deathly Hallows Part 1            WB   \n",
       "3                                             Inception            WB   \n",
       "4                                   Shrek Forever After          P/DW   \n",
       "...                                                 ...           ...   \n",
       "3258                                      A Private War        Aviron   \n",
       "3268                             Billionaire Boy's Club            VE   \n",
       "3271                         Bilal: A New Breed of Hero            VE   \n",
       "3309                                         Time Freak    Grindstone   \n",
       "3342  Reign of Judges: Title of Liberty - Concept Short  Darin Southa   \n",
       "\n",
       "      domestic_gross  foreign_gross  year     total_pay  \n",
       "0        415000000.0    652000000.0  2010  1.067000e+09  \n",
       "1        334200000.0    691300000.0  2010  1.025500e+09  \n",
       "2        296000000.0    664300000.0  2010  9.603000e+08  \n",
       "3        292600000.0    535700000.0  2010  8.283000e+08  \n",
       "4        238700000.0    513900000.0  2010  7.526000e+08  \n",
       "...              ...            ...   ...           ...  \n",
       "3258       1600000.0      2200000.0  2018  3.800000e+06  \n",
       "3268          1300.0      2500000.0  2018  2.501300e+06  \n",
       "3271        491000.0      1700000.0  2018  2.191000e+06  \n",
       "3309         10000.0       256000.0  2018  2.660000e+05  \n",
       "3342         93200.0         5200.0  2018  9.840000e+04  \n",
       "\n",
       "[481 rows x 6 columns]"
      ]
     },
     "execution_count": 454,
     "metadata": {},
     "output_type": "execute_result"
    }
   ],
   "source": [
    "# Grouping the data by studio\n",
    "grouped_data = box_office_mojo_df.groupby(\"studio\")\n",
    "grouped_data.head()"
   ]
  },
  {
   "cell_type": "code",
   "execution_count": 455,
   "metadata": {},
   "outputs": [
    {
     "data": {
      "text/html": [
       "<div>\n",
       "<style scoped>\n",
       "    .dataframe tbody tr th:only-of-type {\n",
       "        vertical-align: middle;\n",
       "    }\n",
       "\n",
       "    .dataframe tbody tr th {\n",
       "        vertical-align: top;\n",
       "    }\n",
       "\n",
       "    .dataframe thead th {\n",
       "        text-align: right;\n",
       "    }\n",
       "</style>\n",
       "<table border=\"1\" class=\"dataframe\">\n",
       "  <thead>\n",
       "    <tr style=\"text-align: right;\">\n",
       "      <th></th>\n",
       "      <th>title</th>\n",
       "      <th>domestic_gross</th>\n",
       "      <th>foreign_gross</th>\n",
       "      <th>year</th>\n",
       "      <th>total_pay</th>\n",
       "    </tr>\n",
       "    <tr>\n",
       "      <th>studio</th>\n",
       "      <th></th>\n",
       "      <th></th>\n",
       "      <th></th>\n",
       "      <th></th>\n",
       "      <th></th>\n",
       "    </tr>\n",
       "  </thead>\n",
       "  <tbody>\n",
       "    <tr>\n",
       "      <th>3D</th>\n",
       "      <td>Sea Rex 3D: Journey to a Prehistoric World</td>\n",
       "      <td>6100000.0</td>\n",
       "      <td>9900000.0</td>\n",
       "      <td>2010</td>\n",
       "      <td>16000000.0</td>\n",
       "    </tr>\n",
       "    <tr>\n",
       "      <th>A24</th>\n",
       "      <td>Spring Breakers</td>\n",
       "      <td>14100000.0</td>\n",
       "      <td>17600000.0</td>\n",
       "      <td>2013</td>\n",
       "      <td>31700000.0</td>\n",
       "    </tr>\n",
       "    <tr>\n",
       "      <th>AF</th>\n",
       "      <td>Barbara</td>\n",
       "      <td>1000000.0</td>\n",
       "      <td>3100000.0</td>\n",
       "      <td>2012</td>\n",
       "      <td>4100000.0</td>\n",
       "    </tr>\n",
       "    <tr>\n",
       "      <th>AGF</th>\n",
       "      <td>Anchor Baby</td>\n",
       "      <td>15800.0</td>\n",
       "      <td>161000.0</td>\n",
       "      <td>2011</td>\n",
       "      <td>176800.0</td>\n",
       "    </tr>\n",
       "    <tr>\n",
       "      <th>AR</th>\n",
       "      <td>L.O.R.D: Legend of Ravaging Dynasties</td>\n",
       "      <td>350000.0</td>\n",
       "      <td>57700000.0</td>\n",
       "      <td>2016</td>\n",
       "      <td>58050000.0</td>\n",
       "    </tr>\n",
       "    <tr>\n",
       "      <th>...</th>\n",
       "      <td>...</td>\n",
       "      <td>...</td>\n",
       "      <td>...</td>\n",
       "      <td>...</td>\n",
       "      <td>...</td>\n",
       "    </tr>\n",
       "    <tr>\n",
       "      <th>WOW</th>\n",
       "      <td>GasLand</td>\n",
       "      <td>30800.0</td>\n",
       "      <td>18600.0</td>\n",
       "      <td>2010</td>\n",
       "      <td>49400.0</td>\n",
       "    </tr>\n",
       "    <tr>\n",
       "      <th>Wein.</th>\n",
       "      <td>The King's Speech</td>\n",
       "      <td>135500000.0</td>\n",
       "      <td>275400000.0</td>\n",
       "      <td>2010</td>\n",
       "      <td>410900000.0</td>\n",
       "    </tr>\n",
       "    <tr>\n",
       "      <th>Yash</th>\n",
       "      <td>Band Baaja Baaraat</td>\n",
       "      <td>43800.0</td>\n",
       "      <td>60700.0</td>\n",
       "      <td>2010</td>\n",
       "      <td>104500.0</td>\n",
       "    </tr>\n",
       "    <tr>\n",
       "      <th>Zee</th>\n",
       "      <td>Rustom</td>\n",
       "      <td>1100000.0</td>\n",
       "      <td>571000.0</td>\n",
       "      <td>2016</td>\n",
       "      <td>1671000.0</td>\n",
       "    </tr>\n",
       "    <tr>\n",
       "      <th>Zeit.</th>\n",
       "      <td>Mid-August Lunch</td>\n",
       "      <td>675000.0</td>\n",
       "      <td>8700000.0</td>\n",
       "      <td>2010</td>\n",
       "      <td>9375000.0</td>\n",
       "    </tr>\n",
       "  </tbody>\n",
       "</table>\n",
       "<p>172 rows × 5 columns</p>\n",
       "</div>"
      ],
      "text/plain": [
       "                                             title  domestic_gross  \\\n",
       "studio                                                               \n",
       "3D      Sea Rex 3D: Journey to a Prehistoric World       6100000.0   \n",
       "A24                                Spring Breakers      14100000.0   \n",
       "AF                                         Barbara       1000000.0   \n",
       "AGF                                    Anchor Baby         15800.0   \n",
       "AR           L.O.R.D: Legend of Ravaging Dynasties        350000.0   \n",
       "...                                            ...             ...   \n",
       "WOW                                        GasLand         30800.0   \n",
       "Wein.                            The King's Speech     135500000.0   \n",
       "Yash                            Band Baaja Baaraat         43800.0   \n",
       "Zee                                         Rustom       1100000.0   \n",
       "Zeit.                             Mid-August Lunch        675000.0   \n",
       "\n",
       "        foreign_gross  year    total_pay  \n",
       "studio                                    \n",
       "3D          9900000.0  2010   16000000.0  \n",
       "A24        17600000.0  2013   31700000.0  \n",
       "AF          3100000.0  2012    4100000.0  \n",
       "AGF          161000.0  2011     176800.0  \n",
       "AR         57700000.0  2016   58050000.0  \n",
       "...               ...   ...          ...  \n",
       "WOW           18600.0  2010      49400.0  \n",
       "Wein.     275400000.0  2010  410900000.0  \n",
       "Yash          60700.0  2010     104500.0  \n",
       "Zee          571000.0  2016    1671000.0  \n",
       "Zeit.       8700000.0  2010    9375000.0  \n",
       "\n",
       "[172 rows x 5 columns]"
      ]
     },
     "execution_count": 455,
     "metadata": {},
     "output_type": "execute_result"
    }
   ],
   "source": [
    "grouped_data.first()"
   ]
  },
  {
   "cell_type": "markdown",
   "metadata": {},
   "source": [
    "### Visualization"
   ]
  },
  {
   "cell_type": "code",
   "execution_count": 456,
   "metadata": {},
   "outputs": [
    {
     "data": {
      "text/plain": [
       "pandas.core.frame.DataFrame"
      ]
     },
     "execution_count": 456,
     "metadata": {},
     "output_type": "execute_result"
    }
   ],
   "source": [
    "type(merged_data)"
   ]
  },
  {
   "cell_type": "code",
   "execution_count": 457,
   "metadata": {},
   "outputs": [
    {
     "data": {
      "text/plain": [
       "pandas.core.series.Series"
      ]
     },
     "execution_count": 457,
     "metadata": {},
     "output_type": "execute_result"
    }
   ],
   "source": [
    "type(studio_counts)"
   ]
  },
  {
   "cell_type": "code",
   "execution_count": 458,
   "metadata": {},
   "outputs": [
    {
     "data": {
      "image/png": "[encoded data removed]",
      "text/plain": [
       "<Figure size 720x432 with 1 Axes>"
      ]
     },
     "metadata": {
      "needs_background": "light"
     },
     "output_type": "display_data"
    }
   ],
   "source": [
    "# Plotting scatter plot for Total Pay and Counts\n",
    "plt.figure(figsize=(10, 6))\n",
    "plt.scatter(merged_data['Total Pay'], merged_data['Counts'], color='blue')\n",
    "plt.xlabel('Total Pay')\n",
    "plt.ylabel('Counts')\n",
    "plt.title('Scatter Plot of Total Pay vs Counts')\n",
    "plt.grid(True)\n",
    "plt.show()"
   ]
  },
  {
   "cell_type": "code",
   "execution_count": 459,
   "metadata": {},
   "outputs": [
    {
     "data": {
      "text/plain": [
       "0.8623473337335764"
      ]
     },
     "execution_count": 459,
     "metadata": {},
     "output_type": "execute_result"
    }
   ],
   "source": [
    "# Correlation\n",
    "# Calculate the correlation coefficient between 'Total Pay' and 'Counts'\n",
    "correlation_coefficient = merged_data['Total Pay'].corr(merged_data['Counts'])\n",
    "correlation_coefficient\n"
   ]
  },
  {
   "cell_type": "markdown",
   "metadata": {},
   "source": [
    "### Observation and Insights:\n",
    "With a correlation coefficient of 0.86234, there is a high degree of linear dependency between total pay and the number of films produced by the studios. This insight implies that changes in one variable will likely result in predictable changes in the other variable. This implies that with increased production there will be an increase in the total revenue.\n",
    "\n",
    "However, it's essential to note that correlation does not imply causation. While a correlation coefficient of 0.86234 indicates a strong association between the variables, it does not necessarily mean that one variable causes the other to change. There may be other underlying factors or variables influencing the observed relationship.\n",
    "\n",
    "Therefore, while a positive correlation of 0.86234 provides valuable insights into the relationship between the variables, further analysis and experimentation may be required to establish causality and make informed decisions.\n"
   ]
  },
  {
   "cell_type": "markdown",
   "metadata": {},
   "source": [
    "### 2.Rotten Tomatoes"
   ]
  },
  {
   "cell_type": "markdown",
   "metadata": {},
   "source": [
    "For this data I will be interested in answering the relation between different genre of movies and revene.\n",
    "Will like to know if there are specific profitable genres of movies."
   ]
  },
  {
   "cell_type": "code",
   "execution_count": 460,
   "metadata": {},
   "outputs": [
    {
     "data": {
      "text/plain": [
       "(1560, 12)"
      ]
     },
     "execution_count": 460,
     "metadata": {},
     "output_type": "execute_result"
    }
   ],
   "source": [
    "# Getting the shape of the data\n",
    "rotten_tomatoes_df.shape"
   ]
  },
  {
   "cell_type": "code",
   "execution_count": 461,
   "metadata": {},
   "outputs": [
    {
     "name": "stdout",
     "output_type": "stream",
     "text": [
      "Total missing values in each column:\n",
      "id                 0\n",
      "synopsis          62\n",
      "rating             3\n",
      "genre              8\n",
      "director         199\n",
      "writer           449\n",
      "theater_date     359\n",
      "dvd_date         359\n",
      "currency        1220\n",
      "box_office      1220\n",
      "runtime           30\n",
      "studio          1066\n",
      "dtype: int64\n"
     ]
    }
   ],
   "source": [
    "# Dealing with missing values\n",
    "missing_values_total = rotten_tomatoes_df.isnull().sum()\n",
    "\n",
    "# Display the total number of missing values\n",
    "print(\"Total missing values in each column:\")\n",
    "print(missing_values_total)"
   ]
  },
  {
   "cell_type": "code",
   "execution_count": 462,
   "metadata": {},
   "outputs": [
    {
     "data": {
      "text/html": [
       "<div>\n",
       "<style scoped>\n",
       "    .dataframe tbody tr th:only-of-type {\n",
       "        vertical-align: middle;\n",
       "    }\n",
       "\n",
       "    .dataframe tbody tr th {\n",
       "        vertical-align: top;\n",
       "    }\n",
       "\n",
       "    .dataframe thead th {\n",
       "        text-align: right;\n",
       "    }\n",
       "</style>\n",
       "<table border=\"1\" class=\"dataframe\">\n",
       "  <thead>\n",
       "    <tr style=\"text-align: right;\">\n",
       "      <th></th>\n",
       "      <th>id</th>\n",
       "      <th>synopsis</th>\n",
       "      <th>rating</th>\n",
       "      <th>genre</th>\n",
       "      <th>director</th>\n",
       "      <th>writer</th>\n",
       "      <th>theater_date</th>\n",
       "      <th>dvd_date</th>\n",
       "      <th>currency</th>\n",
       "      <th>box_office</th>\n",
       "      <th>runtime</th>\n",
       "      <th>studio</th>\n",
       "    </tr>\n",
       "  </thead>\n",
       "  <tbody>\n",
       "    <tr>\n",
       "      <th>0</th>\n",
       "      <td>1</td>\n",
       "      <td>This gritty, fast-paced, and innovative police...</td>\n",
       "      <td>R</td>\n",
       "      <td>Action and Adventure|Classics|Drama</td>\n",
       "      <td>William Friedkin</td>\n",
       "      <td>Ernest Tidyman</td>\n",
       "      <td>Oct 9, 1971</td>\n",
       "      <td>Sep 25, 2001</td>\n",
       "      <td>NaN</td>\n",
       "      <td>NaN</td>\n",
       "      <td>104 minutes</td>\n",
       "      <td>NaN</td>\n",
       "    </tr>\n",
       "    <tr>\n",
       "      <th>1</th>\n",
       "      <td>3</td>\n",
       "      <td>New York City, not-too-distant-future: Eric Pa...</td>\n",
       "      <td>R</td>\n",
       "      <td>Drama|Science Fiction and Fantasy</td>\n",
       "      <td>David Cronenberg</td>\n",
       "      <td>David Cronenberg|Don DeLillo</td>\n",
       "      <td>Aug 17, 2012</td>\n",
       "      <td>Jan 1, 2013</td>\n",
       "      <td>$</td>\n",
       "      <td>600,000</td>\n",
       "      <td>108 minutes</td>\n",
       "      <td>Entertainment One</td>\n",
       "    </tr>\n",
       "    <tr>\n",
       "      <th>2</th>\n",
       "      <td>5</td>\n",
       "      <td>Illeana Douglas delivers a superb performance ...</td>\n",
       "      <td>R</td>\n",
       "      <td>Drama|Musical and Performing Arts</td>\n",
       "      <td>Allison Anders</td>\n",
       "      <td>Allison Anders</td>\n",
       "      <td>Sep 13, 1996</td>\n",
       "      <td>Apr 18, 2000</td>\n",
       "      <td>NaN</td>\n",
       "      <td>NaN</td>\n",
       "      <td>116 minutes</td>\n",
       "      <td>NaN</td>\n",
       "    </tr>\n",
       "    <tr>\n",
       "      <th>3</th>\n",
       "      <td>6</td>\n",
       "      <td>Michael Douglas runs afoul of a treacherous su...</td>\n",
       "      <td>R</td>\n",
       "      <td>Drama|Mystery and Suspense</td>\n",
       "      <td>Barry Levinson</td>\n",
       "      <td>Paul Attanasio|Michael Crichton</td>\n",
       "      <td>Dec 9, 1994</td>\n",
       "      <td>Aug 27, 1997</td>\n",
       "      <td>NaN</td>\n",
       "      <td>NaN</td>\n",
       "      <td>128 minutes</td>\n",
       "      <td>NaN</td>\n",
       "    </tr>\n",
       "    <tr>\n",
       "      <th>4</th>\n",
       "      <td>7</td>\n",
       "      <td>NaN</td>\n",
       "      <td>NR</td>\n",
       "      <td>Drama|Romance</td>\n",
       "      <td>Rodney Bennett</td>\n",
       "      <td>Giles Cooper</td>\n",
       "      <td>NaN</td>\n",
       "      <td>NaN</td>\n",
       "      <td>NaN</td>\n",
       "      <td>NaN</td>\n",
       "      <td>200 minutes</td>\n",
       "      <td>NaN</td>\n",
       "    </tr>\n",
       "  </tbody>\n",
       "</table>\n",
       "</div>"
      ],
      "text/plain": [
       "   id                                           synopsis rating  \\\n",
       "0   1  This gritty, fast-paced, and innovative police...      R   \n",
       "1   3  New York City, not-too-distant-future: Eric Pa...      R   \n",
       "2   5  Illeana Douglas delivers a superb performance ...      R   \n",
       "3   6  Michael Douglas runs afoul of a treacherous su...      R   \n",
       "4   7                                                NaN     NR   \n",
       "\n",
       "                                 genre          director  \\\n",
       "0  Action and Adventure|Classics|Drama  William Friedkin   \n",
       "1    Drama|Science Fiction and Fantasy  David Cronenberg   \n",
       "2    Drama|Musical and Performing Arts    Allison Anders   \n",
       "3           Drama|Mystery and Suspense    Barry Levinson   \n",
       "4                        Drama|Romance    Rodney Bennett   \n",
       "\n",
       "                            writer  theater_date      dvd_date currency  \\\n",
       "0                   Ernest Tidyman   Oct 9, 1971  Sep 25, 2001      NaN   \n",
       "1     David Cronenberg|Don DeLillo  Aug 17, 2012   Jan 1, 2013        $   \n",
       "2                   Allison Anders  Sep 13, 1996  Apr 18, 2000      NaN   \n",
       "3  Paul Attanasio|Michael Crichton   Dec 9, 1994  Aug 27, 1997      NaN   \n",
       "4                     Giles Cooper           NaN           NaN      NaN   \n",
       "\n",
       "  box_office      runtime             studio  \n",
       "0        NaN  104 minutes                NaN  \n",
       "1    600,000  108 minutes  Entertainment One  \n",
       "2        NaN  116 minutes                NaN  \n",
       "3        NaN  128 minutes                NaN  \n",
       "4        NaN  200 minutes                NaN  "
      ]
     },
     "execution_count": 462,
     "metadata": {},
     "output_type": "execute_result"
    }
   ],
   "source": [
    "rotten_tomatoes_df.head()"
   ]
  },
  {
   "cell_type": "markdown",
   "metadata": {},
   "source": [
    "### Interested in the rating and runtime columns"
   ]
  },
  {
   "cell_type": "code",
   "execution_count": 463,
   "metadata": {},
   "outputs": [
    {
     "data": {
      "text/plain": [
       "0       104 minutes\n",
       "1       108 minutes\n",
       "2       116 minutes\n",
       "3       128 minutes\n",
       "4       200 minutes\n",
       "           ...     \n",
       "1555    106 minutes\n",
       "1556     88 minutes\n",
       "1557    111 minutes\n",
       "1558    101 minutes\n",
       "1559     94 minutes\n",
       "Name: runtime, Length: 1560, dtype: object"
      ]
     },
     "execution_count": 463,
     "metadata": {},
     "output_type": "execute_result"
    }
   ],
   "source": [
    "rotten_tomatoes_df[\"runtime\"]"
   ]
  },
  {
   "cell_type": "code",
   "execution_count": 464,
   "metadata": {},
   "outputs": [
    {
     "data": {
      "text/plain": [
       "0        R\n",
       "1        R\n",
       "2        R\n",
       "3        R\n",
       "4       NR\n",
       "        ..\n",
       "1555     R\n",
       "1556    PG\n",
       "1557     G\n",
       "1558    PG\n",
       "1559     R\n",
       "Name: rating, Length: 1560, dtype: object"
      ]
     },
     "execution_count": 464,
     "metadata": {},
     "output_type": "execute_result"
    }
   ],
   "source": [
    "rotten_tomatoes_df[\"rating\"]"
   ]
  },
  {
   "cell_type": "code",
   "execution_count": 465,
   "metadata": {},
   "outputs": [
    {
     "data": {
      "text/plain": [
       "0        R\n",
       "1        R\n",
       "2        R\n",
       "3        R\n",
       "4       NR\n",
       "        ..\n",
       "1555     R\n",
       "1556    PG\n",
       "1557     G\n",
       "1558    PG\n",
       "1559     R\n",
       "Name: rating, Length: 1560, dtype: object"
      ]
     },
     "execution_count": 465,
     "metadata": {},
     "output_type": "execute_result"
    }
   ],
   "source": [
    "rotten_tomatoes_df[\"rating\"]\n"
   ]
  },
  {
   "cell_type": "code",
   "execution_count": 466,
   "metadata": {},
   "outputs": [
    {
     "data": {
      "text/plain": [
       "30"
      ]
     },
     "execution_count": 466,
     "metadata": {},
     "output_type": "execute_result"
    }
   ],
   "source": [
    "# getting the null values for the genre\n",
    "rotten_tomatoes_df[\"runtime\"].isnull().sum()"
   ]
  },
  {
   "cell_type": "code",
   "execution_count": 467,
   "metadata": {},
   "outputs": [
    {
     "data": {
      "text/plain": [
       "3"
      ]
     },
     "execution_count": 467,
     "metadata": {},
     "output_type": "execute_result"
    }
   ],
   "source": [
    "# getting the null values for the box_office\n",
    "rotten_tomatoes_df[\"rating\"].isnull().sum()"
   ]
  },
  {
   "cell_type": "code",
   "execution_count": 468,
   "metadata": {},
   "outputs": [
    {
     "data": {
      "text/plain": [
       "257     101 minutes\n",
       "873      88 minutes\n",
       "185      93 minutes\n",
       "30       65 minutes\n",
       "785      93 minutes\n",
       "248     111 minutes\n",
       "1271     93 minutes\n",
       "500     184 minutes\n",
       "132     106 minutes\n",
       "1260    129 minutes\n",
       "Name: runtime, dtype: object"
      ]
     },
     "execution_count": 468,
     "metadata": {},
     "output_type": "execute_result"
    }
   ],
   "source": [
    "# obtaining random sample of the values in the box_office\n",
    "random_samples = rotten_tomatoes_df[\"runtime\"].sample(10) \n",
    "random_samples"
   ]
  },
  {
   "cell_type": "code",
   "execution_count": 469,
   "metadata": {
    "scrolled": true
   },
   "outputs": [
    {
     "data": {
      "text/plain": [
       "(1530, 12)"
      ]
     },
     "execution_count": 469,
     "metadata": {},
     "output_type": "execute_result"
    }
   ],
   "source": [
    "# Dropping the missing values\n",
    "rotten_tomatoes_df.dropna(subset=['rating', 'runtime'], inplace=True)\n",
    "rotten_tomatoes_df.shape\n"
   ]
  },
  {
   "cell_type": "code",
   "execution_count": 470,
   "metadata": {
    "scrolled": true
   },
   "outputs": [
    {
     "data": {
      "text/html": [
       "<div>\n",
       "<style scoped>\n",
       "    .dataframe tbody tr th:only-of-type {\n",
       "        vertical-align: middle;\n",
       "    }\n",
       "\n",
       "    .dataframe tbody tr th {\n",
       "        vertical-align: top;\n",
       "    }\n",
       "\n",
       "    .dataframe thead th {\n",
       "        text-align: right;\n",
       "    }\n",
       "</style>\n",
       "<table border=\"1\" class=\"dataframe\">\n",
       "  <thead>\n",
       "    <tr style=\"text-align: right;\">\n",
       "      <th></th>\n",
       "      <th>id</th>\n",
       "      <th>synopsis</th>\n",
       "      <th>rating</th>\n",
       "      <th>genre</th>\n",
       "      <th>director</th>\n",
       "      <th>writer</th>\n",
       "      <th>theater_date</th>\n",
       "      <th>dvd_date</th>\n",
       "      <th>currency</th>\n",
       "      <th>box_office</th>\n",
       "      <th>runtime</th>\n",
       "      <th>studio</th>\n",
       "    </tr>\n",
       "  </thead>\n",
       "  <tbody>\n",
       "    <tr>\n",
       "      <th>0</th>\n",
       "      <td>1</td>\n",
       "      <td>This gritty, fast-paced, and innovative police...</td>\n",
       "      <td>R</td>\n",
       "      <td>Action and Adventure|Classics|Drama</td>\n",
       "      <td>William Friedkin</td>\n",
       "      <td>Ernest Tidyman</td>\n",
       "      <td>Oct 9, 1971</td>\n",
       "      <td>Sep 25, 2001</td>\n",
       "      <td>NaN</td>\n",
       "      <td>NaN</td>\n",
       "      <td>104 minutes</td>\n",
       "      <td>NaN</td>\n",
       "    </tr>\n",
       "    <tr>\n",
       "      <th>1</th>\n",
       "      <td>3</td>\n",
       "      <td>New York City, not-too-distant-future: Eric Pa...</td>\n",
       "      <td>R</td>\n",
       "      <td>Drama|Science Fiction and Fantasy</td>\n",
       "      <td>David Cronenberg</td>\n",
       "      <td>David Cronenberg|Don DeLillo</td>\n",
       "      <td>Aug 17, 2012</td>\n",
       "      <td>Jan 1, 2013</td>\n",
       "      <td>$</td>\n",
       "      <td>600,000</td>\n",
       "      <td>108 minutes</td>\n",
       "      <td>Entertainment One</td>\n",
       "    </tr>\n",
       "    <tr>\n",
       "      <th>2</th>\n",
       "      <td>5</td>\n",
       "      <td>Illeana Douglas delivers a superb performance ...</td>\n",
       "      <td>R</td>\n",
       "      <td>Drama|Musical and Performing Arts</td>\n",
       "      <td>Allison Anders</td>\n",
       "      <td>Allison Anders</td>\n",
       "      <td>Sep 13, 1996</td>\n",
       "      <td>Apr 18, 2000</td>\n",
       "      <td>NaN</td>\n",
       "      <td>NaN</td>\n",
       "      <td>116 minutes</td>\n",
       "      <td>NaN</td>\n",
       "    </tr>\n",
       "    <tr>\n",
       "      <th>3</th>\n",
       "      <td>6</td>\n",
       "      <td>Michael Douglas runs afoul of a treacherous su...</td>\n",
       "      <td>R</td>\n",
       "      <td>Drama|Mystery and Suspense</td>\n",
       "      <td>Barry Levinson</td>\n",
       "      <td>Paul Attanasio|Michael Crichton</td>\n",
       "      <td>Dec 9, 1994</td>\n",
       "      <td>Aug 27, 1997</td>\n",
       "      <td>NaN</td>\n",
       "      <td>NaN</td>\n",
       "      <td>128 minutes</td>\n",
       "      <td>NaN</td>\n",
       "    </tr>\n",
       "    <tr>\n",
       "      <th>4</th>\n",
       "      <td>7</td>\n",
       "      <td>NaN</td>\n",
       "      <td>NR</td>\n",
       "      <td>Drama|Romance</td>\n",
       "      <td>Rodney Bennett</td>\n",
       "      <td>Giles Cooper</td>\n",
       "      <td>NaN</td>\n",
       "      <td>NaN</td>\n",
       "      <td>NaN</td>\n",
       "      <td>NaN</td>\n",
       "      <td>200 minutes</td>\n",
       "      <td>NaN</td>\n",
       "    </tr>\n",
       "  </tbody>\n",
       "</table>\n",
       "</div>"
      ],
      "text/plain": [
       "   id                                           synopsis rating  \\\n",
       "0   1  This gritty, fast-paced, and innovative police...      R   \n",
       "1   3  New York City, not-too-distant-future: Eric Pa...      R   \n",
       "2   5  Illeana Douglas delivers a superb performance ...      R   \n",
       "3   6  Michael Douglas runs afoul of a treacherous su...      R   \n",
       "4   7                                                NaN     NR   \n",
       "\n",
       "                                 genre          director  \\\n",
       "0  Action and Adventure|Classics|Drama  William Friedkin   \n",
       "1    Drama|Science Fiction and Fantasy  David Cronenberg   \n",
       "2    Drama|Musical and Performing Arts    Allison Anders   \n",
       "3           Drama|Mystery and Suspense    Barry Levinson   \n",
       "4                        Drama|Romance    Rodney Bennett   \n",
       "\n",
       "                            writer  theater_date      dvd_date currency  \\\n",
       "0                   Ernest Tidyman   Oct 9, 1971  Sep 25, 2001      NaN   \n",
       "1     David Cronenberg|Don DeLillo  Aug 17, 2012   Jan 1, 2013        $   \n",
       "2                   Allison Anders  Sep 13, 1996  Apr 18, 2000      NaN   \n",
       "3  Paul Attanasio|Michael Crichton   Dec 9, 1994  Aug 27, 1997      NaN   \n",
       "4                     Giles Cooper           NaN           NaN      NaN   \n",
       "\n",
       "  box_office      runtime             studio  \n",
       "0        NaN  104 minutes                NaN  \n",
       "1    600,000  108 minutes  Entertainment One  \n",
       "2        NaN  116 minutes                NaN  \n",
       "3        NaN  128 minutes                NaN  \n",
       "4        NaN  200 minutes                NaN  "
      ]
     },
     "execution_count": 470,
     "metadata": {},
     "output_type": "execute_result"
    }
   ],
   "source": [
    "rotten_tomatoes_df.head()"
   ]
  },
  {
   "cell_type": "code",
   "execution_count": 471,
   "metadata": {},
   "outputs": [
    {
     "data": {
      "text/plain": [
       "R        519\n",
       "NR       482\n",
       "PG       239\n",
       "PG-13    232\n",
       "G         57\n",
       "NC17       1\n",
       "Name: rating, dtype: int64"
      ]
     },
     "execution_count": 471,
     "metadata": {},
     "output_type": "execute_result"
    }
   ],
   "source": [
    "unique_ratings = rotten_tomatoes_df[\"rating\"].value_counts()\n",
    "unique_ratings"
   ]
  },
  {
   "cell_type": "code",
   "execution_count": 472,
   "metadata": {},
   "outputs": [],
   "source": [
    "# Extract numerical part in runtime and convert to numeric\n",
    "rotten_tomatoes_df['runtime'] = rotten_tomatoes_df['runtime'].str.extract('(\\d+)').astype(float)"
   ]
  },
  {
   "cell_type": "code",
   "execution_count": 473,
   "metadata": {},
   "outputs": [
    {
     "data": {
      "image/png": "[encoded data removed]",
      "text/plain": [
       "<Figure size 720x432 with 1 Axes>"
      ]
     },
     "metadata": {
      "needs_background": "light"
     },
     "output_type": "display_data"
    }
   ],
   "source": [
    "# Plotting the bar plot\n",
    "plt.figure(figsize=(10, 6))\n",
    "rotten_tomatoes_df.groupby('rating')['runtime'].mean().plot(kind='bar', color='orange')\n",
    "plt.title('Average Runtime by Rating')\n",
    "plt.xlabel('Rating')\n",
    "plt.ylabel('Average Runtime')\n",
    "plt.xticks(rotation=0)\n",
    "plt.grid(True, linestyle='--', alpha=0.5)\n",
    "plt.show()\n"
   ]
  },
  {
   "cell_type": "markdown",
   "metadata": {},
   "source": [
    "From the bar plot, pG-13 has the highest of the avearage runtime while NC17 has the lowest."
   ]
  },
  {
   "cell_type": "code",
   "execution_count": 474,
   "metadata": {},
   "outputs": [
    {
     "data": {
      "image/png": "[encoded data removed]",
      "text/plain": [
       "<Figure size 720x432 with 1 Axes>"
      ]
     },
     "metadata": {
      "needs_background": "light"
     },
     "output_type": "display_data"
    }
   ],
   "source": [
    "# Plotting the box plot\n",
    "plt.figure(figsize=(10, 6))\n",
    "sns.boxplot(x='rating', y='runtime', data=rotten_tomatoes_df)\n",
    "plt.title('Box Plot of Movie Rating vs. Duration')\n",
    "plt.xlabel('Rating')\n",
    "plt.ylabel('Duration (minutes)')\n",
    "plt.grid(True, linestyle='--', alpha=0.5)\n",
    "plt.show()"
   ]
  },
  {
   "cell_type": "code",
   "execution_count": 475,
   "metadata": {},
   "outputs": [
    {
     "data": {
      "image/png": "[encoded data removed]",
      "text/plain": [
       "<Figure size 720x432 with 1 Axes>"
      ]
     },
     "metadata": {
      "needs_background": "light"
     },
     "output_type": "display_data"
    }
   ],
   "source": [
    "# Grouping data by 'rating' and calculating the average 'runtime'\n",
    "average_runtimes = rotten_tomatoes_df.groupby('rating')['runtime'].mean().reset_index()\n",
    "\n",
    "# Plotting the line plot\n",
    "plt.figure(figsize=(10, 6))\n",
    "sns.lineplot(data=average_runtimes, x='rating', y='runtime', marker='o', linestyle='-')\n",
    "plt.title('Average Runtime by Rating')\n",
    "plt.xlabel('Rating')\n",
    "plt.ylabel('Average Runtime (minutes)')\n",
    "plt.grid(True, linestyle='--', alpha=0.5)\n",
    "plt.xticks(rotation=45)  # Rotate x-axis labels for better readability\n",
    "plt.tight_layout()\n",
    "plt.show()"
   ]
  },
  {
   "cell_type": "markdown",
   "metadata": {},
   "source": [
    "### Observation and Insights:\n",
    "The insights gained from the three plots—bar, box, and line—offer invaluable guidance for Microsoft in aligning movie content with audience preferences. The bar plot, depicting average runtimes for each movie rating category, aids in understanding audience expectations, enabling Microsoft to curate diverse content offerings that resonate with viewers. Similarly, the distribution of movie runtimes across rating categories, as illustrated in the box plot, provides insights into audience preferences, including the identification of outliers. By analyzing these outliers, Microsoft can refine its content curation strategies to ensure that its platforms offer a diverse range of content that appeals to a broad audience. Integrating these insights into Microsoft's platforms can enhance user experiences by providing personalized content recommendations that cater to individual preferences. Furthermore, analyzing the trend between movie ratings and durations, as depicted in the line plot, allows Microsoft to tailor its content offerings to specific target audiences, ensuring alignment with diverse viewer preferences. By incorporating these insights into its platforms, Microsoft can improve content curation and user satisfaction, solidifying its position in the entertainment industry."
   ]
  },
  {
   "cell_type": "markdown",
   "metadata": {},
   "source": [
    "### 3. The MovieDB"
   ]
  },
  {
   "cell_type": "code",
   "execution_count": 476,
   "metadata": {},
   "outputs": [
    {
     "data": {
      "text/plain": [
       "(26517, 9)"
      ]
     },
     "execution_count": 476,
     "metadata": {},
     "output_type": "execute_result"
    }
   ],
   "source": [
    "# Getting the shape of the data\n",
    "themoviedb_df.shape"
   ]
  },
  {
   "cell_type": "code",
   "execution_count": 477,
   "metadata": {},
   "outputs": [
    {
     "data": {
      "text/html": [
       "<div>\n",
       "<style scoped>\n",
       "    .dataframe tbody tr th:only-of-type {\n",
       "        vertical-align: middle;\n",
       "    }\n",
       "\n",
       "    .dataframe tbody tr th {\n",
       "        vertical-align: top;\n",
       "    }\n",
       "\n",
       "    .dataframe thead th {\n",
       "        text-align: right;\n",
       "    }\n",
       "</style>\n",
       "<table border=\"1\" class=\"dataframe\">\n",
       "  <thead>\n",
       "    <tr style=\"text-align: right;\">\n",
       "      <th></th>\n",
       "      <th>genre_ids</th>\n",
       "      <th>id</th>\n",
       "      <th>original_language</th>\n",
       "      <th>original_title</th>\n",
       "      <th>popularity</th>\n",
       "      <th>release_date</th>\n",
       "      <th>title</th>\n",
       "      <th>vote_average</th>\n",
       "      <th>vote_count</th>\n",
       "    </tr>\n",
       "  </thead>\n",
       "  <tbody>\n",
       "    <tr>\n",
       "      <th>0</th>\n",
       "      <td>[12, 14, 10751]</td>\n",
       "      <td>12444</td>\n",
       "      <td>en</td>\n",
       "      <td>Harry Potter and the Deathly Hallows: Part 1</td>\n",
       "      <td>33.533</td>\n",
       "      <td>2010-11-19</td>\n",
       "      <td>Harry Potter and the Deathly Hallows: Part 1</td>\n",
       "      <td>7.7</td>\n",
       "      <td>10788</td>\n",
       "    </tr>\n",
       "    <tr>\n",
       "      <th>1</th>\n",
       "      <td>[14, 12, 16, 10751]</td>\n",
       "      <td>10191</td>\n",
       "      <td>en</td>\n",
       "      <td>How to Train Your Dragon</td>\n",
       "      <td>28.734</td>\n",
       "      <td>2010-03-26</td>\n",
       "      <td>How to Train Your Dragon</td>\n",
       "      <td>7.7</td>\n",
       "      <td>7610</td>\n",
       "    </tr>\n",
       "    <tr>\n",
       "      <th>2</th>\n",
       "      <td>[12, 28, 878]</td>\n",
       "      <td>10138</td>\n",
       "      <td>en</td>\n",
       "      <td>Iron Man 2</td>\n",
       "      <td>28.515</td>\n",
       "      <td>2010-05-07</td>\n",
       "      <td>Iron Man 2</td>\n",
       "      <td>6.8</td>\n",
       "      <td>12368</td>\n",
       "    </tr>\n",
       "    <tr>\n",
       "      <th>3</th>\n",
       "      <td>[16, 35, 10751]</td>\n",
       "      <td>862</td>\n",
       "      <td>en</td>\n",
       "      <td>Toy Story</td>\n",
       "      <td>28.005</td>\n",
       "      <td>1995-11-22</td>\n",
       "      <td>Toy Story</td>\n",
       "      <td>7.9</td>\n",
       "      <td>10174</td>\n",
       "    </tr>\n",
       "    <tr>\n",
       "      <th>4</th>\n",
       "      <td>[28, 878, 12]</td>\n",
       "      <td>27205</td>\n",
       "      <td>en</td>\n",
       "      <td>Inception</td>\n",
       "      <td>27.920</td>\n",
       "      <td>2010-07-16</td>\n",
       "      <td>Inception</td>\n",
       "      <td>8.3</td>\n",
       "      <td>22186</td>\n",
       "    </tr>\n",
       "  </tbody>\n",
       "</table>\n",
       "</div>"
      ],
      "text/plain": [
       "             genre_ids     id original_language  \\\n",
       "0      [12, 14, 10751]  12444                en   \n",
       "1  [14, 12, 16, 10751]  10191                en   \n",
       "2        [12, 28, 878]  10138                en   \n",
       "3      [16, 35, 10751]    862                en   \n",
       "4        [28, 878, 12]  27205                en   \n",
       "\n",
       "                                 original_title  popularity release_date  \\\n",
       "0  Harry Potter and the Deathly Hallows: Part 1      33.533   2010-11-19   \n",
       "1                      How to Train Your Dragon      28.734   2010-03-26   \n",
       "2                                    Iron Man 2      28.515   2010-05-07   \n",
       "3                                     Toy Story      28.005   1995-11-22   \n",
       "4                                     Inception      27.920   2010-07-16   \n",
       "\n",
       "                                          title  vote_average  vote_count  \n",
       "0  Harry Potter and the Deathly Hallows: Part 1           7.7       10788  \n",
       "1                      How to Train Your Dragon           7.7        7610  \n",
       "2                                    Iron Man 2           6.8       12368  \n",
       "3                                     Toy Story           7.9       10174  \n",
       "4                                     Inception           8.3       22186  "
      ]
     },
     "execution_count": 477,
     "metadata": {},
     "output_type": "execute_result"
    }
   ],
   "source": [
    "themoviedb_df.head()"
   ]
  },
  {
   "cell_type": "code",
   "execution_count": 478,
   "metadata": {},
   "outputs": [
    {
     "data": {
      "text/html": [
       "<div>\n",
       "<style scoped>\n",
       "    .dataframe tbody tr th:only-of-type {\n",
       "        vertical-align: middle;\n",
       "    }\n",
       "\n",
       "    .dataframe tbody tr th {\n",
       "        vertical-align: top;\n",
       "    }\n",
       "\n",
       "    .dataframe thead th {\n",
       "        text-align: right;\n",
       "    }\n",
       "</style>\n",
       "<table border=\"1\" class=\"dataframe\">\n",
       "  <thead>\n",
       "    <tr style=\"text-align: right;\">\n",
       "      <th></th>\n",
       "      <th>id</th>\n",
       "      <th>popularity</th>\n",
       "      <th>vote_average</th>\n",
       "      <th>vote_count</th>\n",
       "    </tr>\n",
       "  </thead>\n",
       "  <tbody>\n",
       "    <tr>\n",
       "      <th>count</th>\n",
       "      <td>26517.000000</td>\n",
       "      <td>26517.000000</td>\n",
       "      <td>26517.000000</td>\n",
       "      <td>26517.000000</td>\n",
       "    </tr>\n",
       "    <tr>\n",
       "      <th>mean</th>\n",
       "      <td>295050.153260</td>\n",
       "      <td>3.130912</td>\n",
       "      <td>5.991281</td>\n",
       "      <td>194.224837</td>\n",
       "    </tr>\n",
       "    <tr>\n",
       "      <th>std</th>\n",
       "      <td>153661.615648</td>\n",
       "      <td>4.355229</td>\n",
       "      <td>1.852946</td>\n",
       "      <td>960.961095</td>\n",
       "    </tr>\n",
       "    <tr>\n",
       "      <th>min</th>\n",
       "      <td>27.000000</td>\n",
       "      <td>0.600000</td>\n",
       "      <td>0.000000</td>\n",
       "      <td>1.000000</td>\n",
       "    </tr>\n",
       "    <tr>\n",
       "      <th>25%</th>\n",
       "      <td>157851.000000</td>\n",
       "      <td>0.600000</td>\n",
       "      <td>5.000000</td>\n",
       "      <td>2.000000</td>\n",
       "    </tr>\n",
       "    <tr>\n",
       "      <th>50%</th>\n",
       "      <td>309581.000000</td>\n",
       "      <td>1.374000</td>\n",
       "      <td>6.000000</td>\n",
       "      <td>5.000000</td>\n",
       "    </tr>\n",
       "    <tr>\n",
       "      <th>75%</th>\n",
       "      <td>419542.000000</td>\n",
       "      <td>3.694000</td>\n",
       "      <td>7.000000</td>\n",
       "      <td>28.000000</td>\n",
       "    </tr>\n",
       "    <tr>\n",
       "      <th>max</th>\n",
       "      <td>608444.000000</td>\n",
       "      <td>80.773000</td>\n",
       "      <td>10.000000</td>\n",
       "      <td>22186.000000</td>\n",
       "    </tr>\n",
       "  </tbody>\n",
       "</table>\n",
       "</div>"
      ],
      "text/plain": [
       "                  id    popularity  vote_average    vote_count\n",
       "count   26517.000000  26517.000000  26517.000000  26517.000000\n",
       "mean   295050.153260      3.130912      5.991281    194.224837\n",
       "std    153661.615648      4.355229      1.852946    960.961095\n",
       "min        27.000000      0.600000      0.000000      1.000000\n",
       "25%    157851.000000      0.600000      5.000000      2.000000\n",
       "50%    309581.000000      1.374000      6.000000      5.000000\n",
       "75%    419542.000000      3.694000      7.000000     28.000000\n",
       "max    608444.000000     80.773000     10.000000  22186.000000"
      ]
     },
     "execution_count": 478,
     "metadata": {},
     "output_type": "execute_result"
    }
   ],
   "source": [
    "# Getting data description\n",
    "themoviedb_df.describe()"
   ]
  },
  {
   "cell_type": "code",
   "execution_count": 479,
   "metadata": {},
   "outputs": [
    {
     "data": {
      "text/plain": [
       "genre_ids            0\n",
       "id                   0\n",
       "original_language    0\n",
       "original_title       0\n",
       "popularity           0\n",
       "release_date         0\n",
       "title                0\n",
       "vote_average         0\n",
       "vote_count           0\n",
       "dtype: int64"
      ]
     },
     "execution_count": 479,
     "metadata": {},
     "output_type": "execute_result"
    }
   ],
   "source": [
    "# Checking out the missing values\n",
    "themoviedb_df.isna().sum()"
   ]
  },
  {
   "cell_type": "code",
   "execution_count": 480,
   "metadata": {},
   "outputs": [
    {
     "data": {
      "text/plain": [
       "pandas.core.series.Series"
      ]
     },
     "execution_count": 480,
     "metadata": {},
     "output_type": "execute_result"
    }
   ],
   "source": [
    "type(themoviedb_df[\"id\"])"
   ]
  },
  {
   "cell_type": "code",
   "execution_count": 481,
   "metadata": {},
   "outputs": [
    {
     "name": "stdout",
     "output_type": "stream",
     "text": [
      "Duplicate Rows Based on 'id':\n",
      "                    genre_ids      id original_language  \\\n",
      "2473          [16, 35, 10751]     862                en   \n",
      "2477          [16, 35, 10751]     863                en   \n",
      "2536            [12, 28, 878]   20526                en   \n",
      "2673              [18, 10749]   46705                en   \n",
      "2717   [35, 18, 14, 27, 9648]   45649                en   \n",
      "...                       ...     ...               ...   \n",
      "26481                [35, 18]  270805                en   \n",
      "26485                [27, 53]  453259                en   \n",
      "26504            [27, 35, 27]  534282                en   \n",
      "26510                    [99]  495045                en   \n",
      "26511                    [99]  492837                en   \n",
      "\n",
      "               original_title  popularity release_date  \\\n",
      "2473                Toy Story      28.005   1995-11-22   \n",
      "2477              Toy Story 2      22.698   1999-11-24   \n",
      "2536             TRON: Legacy      13.459   2010-12-10   \n",
      "2673           Blue Valentine       8.994   2010-12-29   \n",
      "2717                   Rubber       8.319   2010-09-01   \n",
      "...                       ...         ...          ...   \n",
      "26481           Summer League       0.600   2013-03-18   \n",
      "26485  Devils in the Darkness       0.600   2013-05-15   \n",
      "26504                    Head       0.600   2015-03-28   \n",
      "26510              Fail State       0.600   2018-10-19   \n",
      "26511       Making Filmmakers       0.600   2018-04-07   \n",
      "\n",
      "                        title  vote_average  vote_count  \n",
      "2473                Toy Story           7.9       10174  \n",
      "2477              Toy Story 2           7.5        7553  \n",
      "2536             TRON: Legacy           6.3        4387  \n",
      "2673           Blue Valentine           6.9        1677  \n",
      "2717                   Rubber           5.9         417  \n",
      "...                       ...           ...         ...  \n",
      "26481           Summer League           4.0           3  \n",
      "26485  Devils in the Darkness           3.5           1  \n",
      "26504                    Head           1.0           1  \n",
      "26510              Fail State           0.0           1  \n",
      "26511       Making Filmmakers           0.0           1  \n",
      "\n",
      "[1020 rows x 9 columns]\n"
     ]
    }
   ],
   "source": [
    "# Check for duplicate rows based on the 'id' column\n",
    "duplicate_rows_id = themoviedb_df[themoviedb_df.duplicated(subset='id')]\n",
    "\n",
    "# Display duplicate rows based on 'id' column\n",
    "print(\"Duplicate Rows Based on 'id':\")\n",
    "print(duplicate_rows_id)\n"
   ]
  },
  {
   "cell_type": "code",
   "execution_count": 482,
   "metadata": {},
   "outputs": [
    {
     "name": "stdout",
     "output_type": "stream",
     "text": [
      "                 genre_ids      id original_language  \\\n",
      "0          [12, 14, 10751]   12444                en   \n",
      "1      [14, 12, 16, 10751]   10191                en   \n",
      "2            [12, 28, 878]   10138                en   \n",
      "3          [16, 35, 10751]     862                en   \n",
      "4            [28, 878, 12]   27205                en   \n",
      "...                    ...     ...               ...   \n",
      "26512             [27, 18]  488143                en   \n",
      "26513             [18, 53]  485975                en   \n",
      "26514         [14, 28, 12]  381231                en   \n",
      "26515      [10751, 12, 28]  366854                en   \n",
      "26516             [53, 27]  309885                en   \n",
      "\n",
      "                                     original_title  popularity release_date  \\\n",
      "0      Harry Potter and the Deathly Hallows: Part 1      33.533   2010-11-19   \n",
      "1                          How to Train Your Dragon      28.734   2010-03-26   \n",
      "2                                        Iron Man 2      28.515   2010-05-07   \n",
      "3                                         Toy Story      28.005   1995-11-22   \n",
      "4                                         Inception      27.920   2010-07-16   \n",
      "...                                             ...         ...          ...   \n",
      "26512                         Laboratory Conditions       0.600   2018-10-13   \n",
      "26513                               _EXHIBIT_84xxx_       0.600   2018-05-01   \n",
      "26514                                  The Last One       0.600   2018-10-01   \n",
      "26515                                  Trailer Made       0.600   2018-06-22   \n",
      "26516                                    The Church       0.600   2018-10-05   \n",
      "\n",
      "                                              title  vote_average  vote_count  \n",
      "0      Harry Potter and the Deathly Hallows: Part 1           7.7       10788  \n",
      "1                          How to Train Your Dragon           7.7        7610  \n",
      "2                                        Iron Man 2           6.8       12368  \n",
      "3                                         Toy Story           7.9       10174  \n",
      "4                                         Inception           8.3       22186  \n",
      "...                                             ...           ...         ...  \n",
      "26512                         Laboratory Conditions           0.0           1  \n",
      "26513                               _EXHIBIT_84xxx_           0.0           1  \n",
      "26514                                  The Last One           0.0           1  \n",
      "26515                                  Trailer Made           0.0           1  \n",
      "26516                                    The Church           0.0           1  \n",
      "\n",
      "[25497 rows x 9 columns]\n"
     ]
    }
   ],
   "source": [
    "# Drop duplicate rows based on the 'id' column\n",
    "themoviedb_df.drop_duplicates(subset='id', inplace=True)\n",
    "\n",
    "# Display the DataFrame after dropping duplicates\n",
    "print(themoviedb_df)\n"
   ]
  },
  {
   "cell_type": "markdown",
   "metadata": {},
   "source": [
    "This data set is complete and does not contain any missing values.\n",
    "From the earlier analysis on data types, it does not contain any incositencies hence the data is ready for further analysis."
   ]
  },
  {
   "cell_type": "markdown",
   "metadata": {},
   "source": [
    "From this data will like to discover if there is a relation between popularity, release date, original language, vote count and vote average."
   ]
  },
  {
   "cell_type": "code",
   "execution_count": null,
   "metadata": {},
   "outputs": [],
   "source": []
  },
  {
   "cell_type": "code",
   "execution_count": 483,
   "metadata": {},
   "outputs": [
    {
     "data": {
      "text/plain": [
       "0    33.533\n",
       "1    28.734\n",
       "2    28.515\n",
       "3    28.005\n",
       "4    27.920\n",
       "Name: popularity, dtype: float64"
      ]
     },
     "execution_count": 483,
     "metadata": {},
     "output_type": "execute_result"
    }
   ],
   "source": [
    "#Extracting the popularity data\n",
    "popularity_data = themoviedb_df[\"popularity\"]\n",
    "popularity_data.head()"
   ]
  },
  {
   "cell_type": "code",
   "execution_count": 484,
   "metadata": {},
   "outputs": [
    {
     "data": {
      "text/plain": [
       "0    2010-11-19\n",
       "1    2010-03-26\n",
       "2    2010-05-07\n",
       "3    1995-11-22\n",
       "4    2010-07-16\n",
       "5    2010-02-11\n",
       "6    2009-12-18\n",
       "7    2010-06-17\n",
       "8    2010-07-09\n",
       "9    2010-11-04\n",
       "Name: release_date, dtype: object"
      ]
     },
     "execution_count": 484,
     "metadata": {},
     "output_type": "execute_result"
    }
   ],
   "source": [
    "# Extracting release date data\n",
    "release_data = themoviedb_df[\"release_date\"]\n",
    "release_data.head(10)"
   ]
  },
  {
   "cell_type": "code",
   "execution_count": 485,
   "metadata": {},
   "outputs": [
    {
     "data": {
      "text/plain": [
       "2010-01-01    268\n",
       "2011-01-01    199\n",
       "2012-01-01    155\n",
       "2014-01-01    152\n",
       "2013-01-01    145\n",
       "             ... \n",
       "2012-07-18      1\n",
       "2014-06-30      1\n",
       "2012-07-22      1\n",
       "1999-11-24      1\n",
       "2009-10-03      1\n",
       "Name: release_date, Length: 3433, dtype: int64"
      ]
     },
     "execution_count": 485,
     "metadata": {},
     "output_type": "execute_result"
    }
   ],
   "source": [
    "# Getting value counts for unique values\n",
    "unique_date = release_data.value_counts()\n",
    "unique_date"
   ]
  },
  {
   "cell_type": "code",
   "execution_count": 486,
   "metadata": {},
   "outputs": [],
   "source": [
    "# Will plot popularity aganist the unique release dates"
   ]
  },
  {
   "cell_type": "code",
   "execution_count": 487,
   "metadata": {},
   "outputs": [
    {
     "name": "stdout",
     "output_type": "stream",
     "text": [
      "Correlation Matrix:\n",
      "              popularity  vote_count  vote_average\n",
      "popularity      1.000000    0.685285      0.057178\n",
      "vote_count      0.685285    1.000000      0.079160\n",
      "vote_average    0.057178    0.079160      1.000000\n"
     ]
    }
   ],
   "source": [
    "numerical_columns = ['popularity', 'vote_count', 'vote_average']\n",
    "\n",
    "# Compute correlation matrix\n",
    "correlation_matrix = themoviedb_df[numerical_columns].corr()\n",
    "\n",
    "# Print correlation matrix\n",
    "print(\"Correlation Matrix:\")\n",
    "print(correlation_matrix)"
   ]
  },
  {
   "cell_type": "markdown",
   "metadata": {},
   "source": [
    "The correlation coefficients suggest that while there is some relationship between popularity and vote count, there is little to no relationship between popularity/vote count and vote average. Further analysis and visualization may be needed to explore these relationships in more detail."
   ]
  },
  {
   "cell_type": "code",
   "execution_count": 488,
   "metadata": {},
   "outputs": [
    {
     "data": {
      "image/png": "[encoded data removed]",
      "text/plain": [
       "<Figure size 576x432 with 1 Axes>"
      ]
     },
     "metadata": {
      "needs_background": "light"
     },
     "output_type": "display_data"
    }
   ],
   "source": [
    "\n",
    "x = themoviedb_df['popularity']\n",
    "y = themoviedb_df['vote_count']\n",
    "\n",
    "# Create scatter plot\n",
    "plt.figure(figsize=(8, 6))\n",
    "plt.scatter(x, y, alpha=0.5)  # Set alpha to adjust transparency\n",
    "plt.title('Scatter Plot of Popularity vs Vote Count')\n",
    "plt.xlabel('Popularity')\n",
    "plt.ylabel('Vote Count')\n",
    "plt.grid(True)\n",
    "plt.show()"
   ]
  },
  {
   "cell_type": "code",
   "execution_count": 489,
   "metadata": {},
   "outputs": [
    {
     "data": {
      "image/png": "[encoded data removed]",
      "text/plain": [
       "<Figure size 576x432 with 1 Axes>"
      ]
     },
     "metadata": {
      "needs_background": "light"
     },
     "output_type": "display_data"
    }
   ],
   "source": [
    "# You can specify the variables you want to plot on the x and y axes\n",
    "x = themoviedb_df['popularity']\n",
    "y = themoviedb_df['vote_average']\n",
    "\n",
    "# Create scatter plot\n",
    "plt.figure(figsize=(8, 6))\n",
    "plt.scatter(x, y, alpha=0.5)  # Set alpha to adjust transparency\n",
    "plt.title('Scatter Plot of Popularity vs Vote Average')\n",
    "plt.xlabel('Popularity')\n",
    "plt.ylabel('Vote Average')\n",
    "plt.grid(True)\n",
    "plt.show()"
   ]
  },
  {
   "cell_type": "code",
   "execution_count": 490,
   "metadata": {},
   "outputs": [
    {
     "data": {
      "image/png": "[encoded data removed]",
      "text/plain": [
       "<Figure size 576x432 with 1 Axes>"
      ]
     },
     "metadata": {
      "needs_background": "light"
     },
     "output_type": "display_data"
    }
   ],
   "source": [
    "x = themoviedb_df['vote_count']\n",
    "y = themoviedb_df['vote_average']\n",
    "\n",
    "# Create scatter plot\n",
    "plt.figure(figsize=(8, 6))\n",
    "plt.scatter(x, y, alpha=0.5)  # Set alpha to adjust transparency\n",
    "plt.title('Scatter Plot of Vote Count vs Vote Average')\n",
    "plt.xlabel('Vote Count')\n",
    "plt.ylabel('Vote Average')\n",
    "plt.grid(True)\n",
    "plt.show()"
   ]
  },
  {
   "cell_type": "markdown",
   "metadata": {},
   "source": [
    "The scatter plots suggest a discernible connection between popularity and vote count, implying that as popularity increases, so does the number of votes. This correlation indicates that higher levels of popularity tend to attract more votes, reflecting a relationship between the two variables within the data."
   ]
  },
  {
   "cell_type": "code",
   "execution_count": 491,
   "metadata": {
    "scrolled": true
   },
   "outputs": [
    {
     "data": {
      "image/png": "[encoded data removed]",
      "text/plain": [
       "<Figure size 720x432 with 1 Axes>"
      ]
     },
     "metadata": {
      "needs_background": "light"
     },
     "output_type": "display_data"
    }
   ],
   "source": [
    "# Convert release_date to datetime format if it's not already\n",
    "themoviedb_df['release_date'] = pd.to_datetime(themoviedb_df['release_date'])\n",
    "\n",
    "# Group the data by release year\n",
    "grouped_data = themoviedb_df.groupby(themoviedb_df['release_date'].dt.year)\n",
    "\n",
    "# Compute the average popularity for each release year\n",
    "avg_popularity = grouped_data['popularity'].mean()\n",
    "\n",
    "# Plot the trend of popularity over time\n",
    "plt.figure(figsize=(10, 6))\n",
    "plt.plot(avg_popularity.index, avg_popularity.values, marker='o', linestyle='-')\n",
    "plt.title('Average Popularity Over Time')\n",
    "plt.xlabel('Release Year')\n",
    "plt.ylabel('Average Popularity')\n",
    "plt.grid(True)\n",
    "plt.show()"
   ]
  },
  {
   "cell_type": "markdown",
   "metadata": {},
   "source": [
    "The plotted graph illustrates a fluctuating pattern, revealing the evolution of average popularity across various years of film releases. As the timeline progresses, the trend of average popularity demonstrates both peaks and troughs, suggesting dynamic shifts in audience interest over time. This visual representation provides insights into the changing landscape of popularity within the film industry across different release years."
   ]
  },
  {
   "cell_type": "code",
   "execution_count": 492,
   "metadata": {},
   "outputs": [
    {
     "name": "stdout",
     "output_type": "stream",
     "text": [
      "                     genre_ids      id original_language  \\\n",
      "23811             [12, 28, 14]  299536                en   \n",
      "11019                 [28, 53]  245891                en   \n",
      "23812    [28, 12, 16, 878, 35]  324857                en   \n",
      "11020             [28, 12, 14]  122917                en   \n",
      "5179             [878, 28, 12]   24428                en   \n",
      "11021            [28, 878, 12]  118340                en   \n",
      "20617            [878, 28, 53]  335984                en   \n",
      "23814                     [12]  338952                en   \n",
      "23815  [10751, 16, 35, 14, 12]  404368                en   \n",
      "20618        [28, 12, 878, 18]  315635                en   \n",
      "\n",
      "                                    original_title  popularity release_date  \\\n",
      "23811                       Avengers: Infinity War      80.773   2018-04-27   \n",
      "11019                                    John Wick      78.123   2014-10-24   \n",
      "23812            Spider-Man: Into the Spider-Verse      60.534   2018-12-14   \n",
      "11020    The Hobbit: The Battle of the Five Armies      53.783   2014-12-17   \n",
      "5179                                  The Avengers      50.289   2012-05-04   \n",
      "11021                      Guardians of the Galaxy      49.606   2014-08-01   \n",
      "20617                            Blade Runner 2049      48.571   2017-10-06   \n",
      "23814  Fantastic Beasts: The Crimes of Grindelwald      48.508   2018-11-16   \n",
      "23815                    Ralph Breaks the Internet      48.057   2018-11-21   \n",
      "20618                       Spider-Man: Homecoming      46.775   2017-07-07   \n",
      "\n",
      "                                             title  vote_average  vote_count  \n",
      "23811                       Avengers: Infinity War           8.3       13948  \n",
      "11019                                    John Wick           7.2       10081  \n",
      "23812            Spider-Man: Into the Spider-Verse           8.4        4048  \n",
      "11020    The Hobbit: The Battle of the Five Armies           7.3        8392  \n",
      "5179                                  The Avengers           7.6       19673  \n",
      "11021                      Guardians of the Galaxy           7.9       17958  \n",
      "20617                            Blade Runner 2049           7.4        6679  \n",
      "23814  Fantastic Beasts: The Crimes of Grindelwald           6.9        4870  \n",
      "23815                    Ralph Breaks the Internet           7.2        2626  \n",
      "20618                       Spider-Man: Homecoming           7.4       11585  \n"
     ]
    }
   ],
   "source": [
    "# Sort the DataFrame by 'popularity' column in descending order and select the top 10 rows\n",
    "top_10_movies = themoviedb_df.sort_values(by='popularity', ascending=False).head(10)\n",
    "\n",
    "# Display the top 10 movies\n",
    "print(top_10_movies)"
   ]
  },
  {
   "cell_type": "code",
   "execution_count": 493,
   "metadata": {},
   "outputs": [
    {
     "data": {
      "image/png": "[encoded data removed]",
      "text/plain": [
       "<Figure size 720x432 with 1 Axes>"
      ]
     },
     "metadata": {
      "needs_background": "light"
     },
     "output_type": "display_data"
    }
   ],
   "source": [
    "# Plotting the top 10 movies\n",
    "plt.figure(figsize=(10, 6))\n",
    "plt.barh(top_10_movies['title'], top_10_movies['popularity'], color='orange')\n",
    "plt.xlabel('Popularity')\n",
    "plt.ylabel('Movie')\n",
    "plt.title('Top 10 Movies by Popularity')\n",
    "plt.gca().invert_yaxis()  # Invert y-axis to have the highest popularity at the top\n",
    "plt.show()"
   ]
  },
  {
   "cell_type": "code",
   "execution_count": 516,
   "metadata": {},
   "outputs": [
    {
     "name": "stdout",
     "output_type": "stream",
     "text": [
      "                                            genre_ids      id  \\\n",
      "20618              (Action, Adventure, Sci-fi, Drama)  315635   \n",
      "23815  (Family, Animated, Comedy, Fantasy, Adventure)  404368   \n",
      "23814                                    (Adventure,)  338952   \n",
      "20617                      (Sci-fi, Action, Thriller)  335984   \n",
      "11021                     (Action, Sci-fi, Adventure)  118340   \n",
      "5179                      (Sci-fi, Action, Adventure)   24428   \n",
      "11020                    (Action, Adventure, Fantasy)  122917   \n",
      "23812   (Action, Adventure, Animated, Sci-fi, Comedy)  324857   \n",
      "11019                              (Action, Thriller)  245891   \n",
      "23811                    (Adventure, Action, Fantasy)  299536   \n",
      "\n",
      "      original_language                               original_title  \\\n",
      "20618                en                       Spider-Man: Homecoming   \n",
      "23815                en                    Ralph Breaks the Internet   \n",
      "23814                en  Fantastic Beasts: The Crimes of Grindelwald   \n",
      "20617                en                            Blade Runner 2049   \n",
      "11021                en                      Guardians of the Galaxy   \n",
      "5179                 en                                 The Avengers   \n",
      "11020                en    The Hobbit: The Battle of the Five Armies   \n",
      "23812                en            Spider-Man: Into the Spider-Verse   \n",
      "11019                en                                    John Wick   \n",
      "23811                en                       Avengers: Infinity War   \n",
      "\n",
      "       popularity release_date                                        title  \\\n",
      "20618      46.775   2017-07-07                       Spider-Man: Homecoming   \n",
      "23815      48.057   2018-11-21                    Ralph Breaks the Internet   \n",
      "23814      48.508   2018-11-16  Fantastic Beasts: The Crimes of Grindelwald   \n",
      "20617      48.571   2017-10-06                            Blade Runner 2049   \n",
      "11021      49.606   2014-08-01                      Guardians of the Galaxy   \n",
      "5179       50.289   2012-05-04                                 The Avengers   \n",
      "11020      53.783   2014-12-17    The Hobbit: The Battle of the Five Armies   \n",
      "23812      60.534   2018-12-14            Spider-Man: Into the Spider-Verse   \n",
      "11019      78.123   2014-10-24                                    John Wick   \n",
      "23811      80.773   2018-04-27                       Avengers: Infinity War   \n",
      "\n",
      "       vote_average  vote_count genre_title  \n",
      "20618           7.4       11585      Action  \n",
      "23815           7.2        2626      Family  \n",
      "23814           6.9        4870   Adventure  \n",
      "20617           7.4        6679      Sci-fi  \n",
      "11021           7.9       17958      Action  \n",
      "5179            7.6       19673      Sci-fi  \n",
      "11020           7.3        8392      Action  \n",
      "23812           8.4        4048      Action  \n",
      "11019           7.2       10081      Action  \n",
      "23811           8.3       13948   Adventure  \n"
     ]
    }
   ],
   "source": [
    "# Define a dictionary mapping genre IDs to genre names\n",
    "genre_mapping = {\n",
    "    12: \"Adventure\",\n",
    "    14: \"Fantasy\",\n",
    "    16: \"Animated\",\n",
    "    18: \"Drama\",\n",
    "    27: \"Horror\",\n",
    "    28: \"Action\",\n",
    "    35: \"Comedy\",\n",
    "    36: \"History\",\n",
    "    37: \"Western\",\n",
    "    53: \"Thriller\",\n",
    "    80: \"Crime\",\n",
    "    878: \"Sci-fi\",\n",
    "    10751: \"Family\"\n",
    "}\n",
    "\n",
    "# Replace genre IDs with genre names in the \"genre_ids\" column\n",
    "top_10_movies[\"genre_ids\"] = top_10_movies[\"genre_ids\"].apply(lambda x: tuple(genre_mapping.get(id, id) for id in x))\n",
    "\n",
    "# Display the DataFrame after replacing genre IDs with genre names\n",
    "print(top_10_movies)\n"
   ]
  },
  {
   "cell_type": "code",
   "execution_count": 517,
   "metadata": {},
   "outputs": [
    {
     "name": "stdout",
     "output_type": "stream",
     "text": [
      "                                            genre_ids      id  \\\n",
      "20618              [Action, Adventure, Sci-fi, Drama]  315635   \n",
      "23815  [Family, Animated, Comedy, Fantasy, Adventure]  404368   \n",
      "23814                                     [Adventure]  338952   \n",
      "20617                      [Sci-fi, Action, Thriller]  335984   \n",
      "11021                     [Action, Sci-fi, Adventure]  118340   \n",
      "5179                      [Sci-fi, Action, Adventure]   24428   \n",
      "11020                    [Action, Adventure, Fantasy]  122917   \n",
      "23812   [Action, Adventure, Animated, Sci-fi, Comedy]  324857   \n",
      "11019                              [Action, Thriller]  245891   \n",
      "23811                    [Adventure, Action, Fantasy]  299536   \n",
      "\n",
      "      original_language                               original_title  \\\n",
      "20618                en                       Spider-Man: Homecoming   \n",
      "23815                en                    Ralph Breaks the Internet   \n",
      "23814                en  Fantastic Beasts: The Crimes of Grindelwald   \n",
      "20617                en                            Blade Runner 2049   \n",
      "11021                en                      Guardians of the Galaxy   \n",
      "5179                 en                                 The Avengers   \n",
      "11020                en    The Hobbit: The Battle of the Five Armies   \n",
      "23812                en            Spider-Man: Into the Spider-Verse   \n",
      "11019                en                                    John Wick   \n",
      "23811                en                       Avengers: Infinity War   \n",
      "\n",
      "       popularity release_date                                        title  \\\n",
      "20618      46.775   2017-07-07                       Spider-Man: Homecoming   \n",
      "23815      48.057   2018-11-21                    Ralph Breaks the Internet   \n",
      "23814      48.508   2018-11-16  Fantastic Beasts: The Crimes of Grindelwald   \n",
      "20617      48.571   2017-10-06                            Blade Runner 2049   \n",
      "11021      49.606   2014-08-01                      Guardians of the Galaxy   \n",
      "5179       50.289   2012-05-04                                 The Avengers   \n",
      "11020      53.783   2014-12-17    The Hobbit: The Battle of the Five Armies   \n",
      "23812      60.534   2018-12-14            Spider-Man: Into the Spider-Verse   \n",
      "11019      78.123   2014-10-24                                    John Wick   \n",
      "23811      80.773   2018-04-27                       Avengers: Infinity War   \n",
      "\n",
      "       vote_average  vote_count genre_title  \n",
      "20618           7.4       11585      Action  \n",
      "23815           7.2        2626      Family  \n",
      "23814           6.9        4870   Adventure  \n",
      "20617           7.4        6679      Sci-fi  \n",
      "11021           7.9       17958      Action  \n",
      "5179            7.6       19673      Sci-fi  \n",
      "11020           7.3        8392      Action  \n",
      "23812           8.4        4048      Action  \n",
      "11019           7.2       10081      Action  \n",
      "23811           8.3       13948   Adventure  \n"
     ]
    }
   ],
   "source": [
    "# Convert tuples to lists in the 'genre_ids' column\n",
    "top_10_movies['genre_ids'] = top_10_movies['genre_ids'].apply(list)\n",
    "\n",
    "# Extracting the first genre name from the 'genre_ids' column\n",
    "top_10_movies['genre_title'] = top_10_movies['genre_ids'].apply(lambda x: x[0])\n",
    "\n",
    "# Displaying the DataFrame to verify the changes\n",
    "print(top_10_movies)\n"
   ]
  },
  {
   "cell_type": "code",
   "execution_count": 519,
   "metadata": {},
   "outputs": [
    {
     "data": {
      "image/png": "[encoded data removed]",
      "text/plain": [
       "<Figure size 720x432 with 1 Axes>"
      ]
     },
     "metadata": {
      "needs_background": "light"
     },
     "output_type": "display_data"
    }
   ],
   "source": [
    "# Plotting the top 10 genres by popularity\n",
    "plt.figure(figsize=(10, 6))\n",
    "plt.bar(top_10_movies['genre_title'], top_10_movies['popularity'], color='skyblue')\n",
    "plt.xlabel('Genre')\n",
    "plt.ylabel('Popularity')\n",
    "plt.title('Top 10 Movies by Major Genre')\n",
    "plt.xticks(rotation=45)\n",
    "plt.show()\n"
   ]
  },
  {
   "cell_type": "markdown",
   "metadata": {},
   "source": [
    "### Observation and Insights:\n",
    "\n",
    "Through my analysis, it becomes evident that certain genres exert a significant influence within the film industry.\n",
    "\n",
    "Genres such as \"Action,\" \"Family,\" \"Sci-fi,\" and \"Adventure\" consistently demonstrate considerable popularity and widespread appeal. These genres captivate audiences with their compelling narratives, immersive experiences, and memorable characters."
   ]
  },
  {
   "cell_type": "code",
   "execution_count": null,
   "metadata": {},
   "outputs": [],
   "source": []
  }
 ],
 "metadata": {
  "kernelspec": {
   "display_name": "Python 3",
   "language": "python",
   "name": "python3"
  },
  "language_info": {
   "codemirror_mode": {
    "name": "ipython",
    "version": 3
   },
   "file_extension": ".py",
   "mimetype": "text/x-python",
   "name": "python",
   "nbconvert_exporter": "python",
   "pygments_lexer": "ipython3",
   "version": "3.8.5"
  }
 },
 "nbformat": 4,
 "nbformat_minor": 2
}
